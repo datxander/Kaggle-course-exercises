{
 "cells": [
  {
   "cell_type": "markdown",
   "id": "d7eefd90",
   "metadata": {
    "papermill": {
     "duration": 0.006789,
     "end_time": "2023-03-25T05:21:25.745067",
     "exception": false,
     "start_time": "2023-03-25T05:21:25.738278",
     "status": "completed"
    },
    "tags": []
   },
   "source": [
    "**This notebook is an exercise in the [Python](https://www.kaggle.com/learn/python) course.  You can reference the tutorial at [this link](https://www.kaggle.com/colinmorris/functions-and-getting-help).**\n",
    "\n",
    "---\n"
   ]
  },
  {
   "cell_type": "markdown",
   "id": "088909cd",
   "metadata": {
    "papermill": {
     "duration": 0.005816,
     "end_time": "2023-03-25T05:21:25.756777",
     "exception": false,
     "start_time": "2023-03-25T05:21:25.750961",
     "status": "completed"
    },
    "tags": []
   },
   "source": [
    "Functions are powerful. Try writing some yourself.\n",
    "\n",
    "As before, don't forget to run the setup code below before jumping into question 1."
   ]
  },
  {
   "cell_type": "code",
   "execution_count": 1,
   "id": "14424ee8",
   "metadata": {
    "_kg_hide-input": true,
    "_kg_hide-output": true,
    "execution": {
     "iopub.execute_input": "2023-03-25T05:21:25.769767Z",
     "iopub.status.busy": "2023-03-25T05:21:25.769145Z",
     "iopub.status.idle": "2023-03-25T05:21:25.828798Z",
     "shell.execute_reply": "2023-03-25T05:21:25.827379Z"
    },
    "papermill": {
     "duration": 0.069658,
     "end_time": "2023-03-25T05:21:25.831949",
     "exception": false,
     "start_time": "2023-03-25T05:21:25.762291",
     "status": "completed"
    },
    "tags": []
   },
   "outputs": [
    {
     "name": "stdout",
     "output_type": "stream",
     "text": [
      "Setup complete.\n"
     ]
    }
   ],
   "source": [
    "# SETUP. You don't need to worry for now about what this code does or how it works.\n",
    "from learntools.core import binder; binder.bind(globals())\n",
    "from learntools.python.ex2 import *\n",
    "print('Setup complete.')"
   ]
  },
  {
   "cell_type": "markdown",
   "id": "ca8ee356",
   "metadata": {
    "papermill": {
     "duration": 0.005125,
     "end_time": "2023-03-25T05:21:25.842385",
     "exception": false,
     "start_time": "2023-03-25T05:21:25.837260",
     "status": "completed"
    },
    "tags": []
   },
   "source": [
    "# 1.\n",
    "\n",
    "Complete the body of the following function according to its docstring.\n",
    "\n",
    "HINT: Python has a built-in function `round`."
   ]
  },
  {
   "cell_type": "code",
   "execution_count": 2,
   "id": "37994b5c",
   "metadata": {
    "execution": {
     "iopub.execute_input": "2023-03-25T05:21:25.855631Z",
     "iopub.status.busy": "2023-03-25T05:21:25.855148Z",
     "iopub.status.idle": "2023-03-25T05:21:25.869465Z",
     "shell.execute_reply": "2023-03-25T05:21:25.868140Z"
    },
    "papermill": {
     "duration": 0.024055,
     "end_time": "2023-03-25T05:21:25.872204",
     "exception": false,
     "start_time": "2023-03-25T05:21:25.848149",
     "status": "completed"
    },
    "tags": []
   },
   "outputs": [
    {
     "data": {
      "application/javascript": [
       "parent.postMessage({\"jupyterEvent\": \"custom.exercise_interaction\", \"data\": {\"outcomeType\": 1, \"valueTowardsCompletion\": 0.16666666666666666, \"interactionType\": 1, \"questionType\": 2, \"questionId\": \"1_RoundFunctionProblem\", \"learnToolsVersion\": \"0.3.4\", \"failureMessage\": \"\", \"exceptionClass\": \"\", \"trace\": \"\"}}, \"*\")"
      ],
      "text/plain": [
       "<IPython.core.display.Javascript object>"
      ]
     },
     "metadata": {},
     "output_type": "display_data"
    },
    {
     "data": {
      "text/markdown": [
       "<span style=\"color:#33cc33\">Correct</span>"
      ],
      "text/plain": [
       "Correct"
      ]
     },
     "metadata": {},
     "output_type": "display_data"
    }
   ],
   "source": [
    "def round_to_two_places(num):\n",
    "    \"\"\"Return the given number rounded to two decimal places. \n",
    "    \n",
    "    >>> round_to_two_places(3.14159)\n",
    "    3.14\n",
    "    \"\"\"\n",
    "    return round(num,2)\n",
    "    # Replace this body with your own code.\n",
    "    # (\"pass\" is a keyword that does literally nothing. We used it as a placeholder\n",
    "    # because after we begin a code block, Python requires at least one line of code)\n",
    "    pass\n",
    "\n",
    "# Check your answer\n",
    "q1.check()"
   ]
  },
  {
   "cell_type": "code",
   "execution_count": 3,
   "id": "6680f28c",
   "metadata": {
    "execution": {
     "iopub.execute_input": "2023-03-25T05:21:25.886075Z",
     "iopub.status.busy": "2023-03-25T05:21:25.885014Z",
     "iopub.status.idle": "2023-03-25T05:21:25.891034Z",
     "shell.execute_reply": "2023-03-25T05:21:25.889540Z"
    },
    "papermill": {
     "duration": 0.015941,
     "end_time": "2023-03-25T05:21:25.893550",
     "exception": false,
     "start_time": "2023-03-25T05:21:25.877609",
     "status": "completed"
    },
    "tags": []
   },
   "outputs": [],
   "source": [
    "# Uncomment the following for a hint\n",
    "#q1.hint()\n",
    "# Or uncomment the following to peek at the solution\n",
    "#q1.solution()"
   ]
  },
  {
   "cell_type": "markdown",
   "id": "cac4bd36",
   "metadata": {
    "papermill": {
     "duration": 0.005627,
     "end_time": "2023-03-25T05:21:25.904660",
     "exception": false,
     "start_time": "2023-03-25T05:21:25.899033",
     "status": "completed"
    },
    "tags": []
   },
   "source": [
    "# 2.\n",
    "The help for `round` says that `ndigits` (the second argument) may be negative.\n",
    "What do you think will happen when it is? Try some examples in the following cell."
   ]
  },
  {
   "cell_type": "code",
   "execution_count": 4,
   "id": "506ec0d9",
   "metadata": {
    "execution": {
     "iopub.execute_input": "2023-03-25T05:21:25.920138Z",
     "iopub.status.busy": "2023-03-25T05:21:25.917988Z",
     "iopub.status.idle": "2023-03-25T05:21:25.928088Z",
     "shell.execute_reply": "2023-03-25T05:21:25.926389Z"
    },
    "papermill": {
     "duration": 0.020587,
     "end_time": "2023-03-25T05:21:25.931064",
     "exception": false,
     "start_time": "2023-03-25T05:21:25.910477",
     "status": "completed"
    },
    "tags": []
   },
   "outputs": [
    {
     "data": {
      "text/plain": [
       "1300.0"
      ]
     },
     "execution_count": 4,
     "metadata": {},
     "output_type": "execute_result"
    }
   ],
   "source": [
    "# Put your test code here\n",
    "round(1324.45,-2)"
   ]
  },
  {
   "cell_type": "markdown",
   "id": "6bafb6d1",
   "metadata": {
    "papermill": {
     "duration": 0.005231,
     "end_time": "2023-03-25T05:21:25.941953",
     "exception": false,
     "start_time": "2023-03-25T05:21:25.936722",
     "status": "completed"
    },
    "tags": []
   },
   "source": [
    "Can you think of a case where this would be useful?  Once you're ready, run the code cell below to see the answer and to receive credit for completing the problem."
   ]
  },
  {
   "cell_type": "code",
   "execution_count": 5,
   "id": "94c3c157",
   "metadata": {
    "execution": {
     "iopub.execute_input": "2023-03-25T05:21:25.955205Z",
     "iopub.status.busy": "2023-03-25T05:21:25.954770Z",
     "iopub.status.idle": "2023-03-25T05:21:25.966041Z",
     "shell.execute_reply": "2023-03-25T05:21:25.964337Z"
    },
    "papermill": {
     "duration": 0.021999,
     "end_time": "2023-03-25T05:21:25.969532",
     "exception": false,
     "start_time": "2023-03-25T05:21:25.947533",
     "status": "completed"
    },
    "tags": []
   },
   "outputs": [
    {
     "data": {
      "application/javascript": [
       "parent.postMessage({\"jupyterEvent\": \"custom.exercise_interaction\", \"data\": {\"interactionType\": 3, \"questionType\": 4, \"questionId\": \"2_RoundNdigitsProblem\", \"learnToolsVersion\": \"0.3.4\", \"valueTowardsCompletion\": 0.0, \"failureMessage\": \"\", \"exceptionClass\": \"\", \"trace\": \"\", \"outcomeType\": 4}}, \"*\")"
      ],
      "text/plain": [
       "<IPython.core.display.Javascript object>"
      ]
     },
     "metadata": {},
     "output_type": "display_data"
    },
    {
     "data": {
      "text/markdown": [
       "<span style=\"color:#33cc99\">Solution:</span> As you've seen, `ndigits=-1` rounds to the nearest 10, `ndigits=-2` rounds to the nearest 100 and so on. Where might this be useful? Suppose we're dealing with large numbers:\n",
       "\n",
       "> The area of Finland is 338,424 km²  \n",
       "> The area of Greenland is 2,166,086 km²\n",
       "\n",
       "We probably don't care whether it's really 338,424, or 338,425, or 338,177. All those digits of accuracy are just distracting. We can chop them off by calling `round()` with `ndigits=-3`:\n",
       "\n",
       "> The area of Finland is 338,000 km²  \n",
       "> The area of Greenland is 2,166,000 km²\n",
       "\n",
       "(We'll talk about how we would get the commas later when we talk about string formatting :))\n"
      ],
      "text/plain": [
       "Solution: As you've seen, `ndigits=-1` rounds to the nearest 10, `ndigits=-2` rounds to the nearest 100 and so on. Where might this be useful? Suppose we're dealing with large numbers:\n",
       "\n",
       "> The area of Finland is 338,424 km²  \n",
       "> The area of Greenland is 2,166,086 km²\n",
       "\n",
       "We probably don't care whether it's really 338,424, or 338,425, or 338,177. All those digits of accuracy are just distracting. We can chop them off by calling `round()` with `ndigits=-3`:\n",
       "\n",
       "> The area of Finland is 338,000 km²  \n",
       "> The area of Greenland is 2,166,000 km²\n",
       "\n",
       "(We'll talk about how we would get the commas later when we talk about string formatting :))"
      ]
     },
     "metadata": {},
     "output_type": "display_data"
    }
   ],
   "source": [
    "# Check your answer (Run this code cell to receive credit!)\n",
    "q2.solution()"
   ]
  },
  {
   "cell_type": "markdown",
   "id": "aaa95843",
   "metadata": {
    "papermill": {
     "duration": 0.005619,
     "end_time": "2023-03-25T05:21:25.981231",
     "exception": false,
     "start_time": "2023-03-25T05:21:25.975612",
     "status": "completed"
    },
    "tags": []
   },
   "source": [
    "# 3.\n",
    "\n",
    "In the previous exercise, the candy-sharing friends Alice, Bob and Carol tried to split candies evenly. For the sake of their friendship, any candies left over would be smashed. For example, if they collectively bring home 91 candies, they'll take 30 each and smash 1.\n",
    "\n",
    "Below is a simple function that will calculate the number of candies to smash for *any* number of total candies.\n",
    "\n",
    "Modify it so that it optionally takes a second argument representing the number of friends the candies are being split between. If no second argument is provided, it should assume 3 friends, as before.\n",
    "\n",
    "Update the docstring to reflect this new behaviour."
   ]
  },
  {
   "cell_type": "code",
   "execution_count": 6,
   "id": "1006dfed",
   "metadata": {
    "execution": {
     "iopub.execute_input": "2023-03-25T05:21:25.994955Z",
     "iopub.status.busy": "2023-03-25T05:21:25.994520Z",
     "iopub.status.idle": "2023-03-25T05:21:26.005725Z",
     "shell.execute_reply": "2023-03-25T05:21:26.004031Z"
    },
    "papermill": {
     "duration": 0.021202,
     "end_time": "2023-03-25T05:21:26.008330",
     "exception": false,
     "start_time": "2023-03-25T05:21:25.987128",
     "status": "completed"
    },
    "tags": []
   },
   "outputs": [
    {
     "data": {
      "application/javascript": [
       "parent.postMessage({\"jupyterEvent\": \"custom.exercise_interaction\", \"data\": {\"outcomeType\": 1, \"valueTowardsCompletion\": 0.16666666666666666, \"interactionType\": 1, \"questionType\": 2, \"questionId\": \"3_CandySmashingFunctionProblem\", \"learnToolsVersion\": \"0.3.4\", \"failureMessage\": \"\", \"exceptionClass\": \"\", \"trace\": \"\"}}, \"*\")"
      ],
      "text/plain": [
       "<IPython.core.display.Javascript object>"
      ]
     },
     "metadata": {},
     "output_type": "display_data"
    },
    {
     "data": {
      "text/markdown": [
       "<span style=\"color:#33cc33\">Correct</span>"
      ],
      "text/plain": [
       "Correct"
      ]
     },
     "metadata": {},
     "output_type": "display_data"
    }
   ],
   "source": [
    "def to_smash(total_candies, n_friends = 3):\n",
    "    \"\"\"Return the number of leftover candies that must be smashed after distributing\n",
    "    the given number of candies evenly between 3 friends.\n",
    "    \n",
    "    >>> to_smash(91)\n",
    "    1\n",
    "    \"\"\"\n",
    "    return total_candies % n_friends\n",
    "\n",
    "# Check your answer\n",
    "q3.check()"
   ]
  },
  {
   "cell_type": "code",
   "execution_count": 7,
   "id": "a048d090",
   "metadata": {
    "execution": {
     "iopub.execute_input": "2023-03-25T05:21:26.023268Z",
     "iopub.status.busy": "2023-03-25T05:21:26.022727Z",
     "iopub.status.idle": "2023-03-25T05:21:26.034833Z",
     "shell.execute_reply": "2023-03-25T05:21:26.032952Z"
    },
    "papermill": {
     "duration": 0.023426,
     "end_time": "2023-03-25T05:21:26.037902",
     "exception": false,
     "start_time": "2023-03-25T05:21:26.014476",
     "status": "completed"
    },
    "tags": []
   },
   "outputs": [
    {
     "data": {
      "application/javascript": [
       "parent.postMessage({\"jupyterEvent\": \"custom.exercise_interaction\", \"data\": {\"interactionType\": 2, \"questionType\": 2, \"questionId\": \"3_CandySmashingFunctionProblem\", \"learnToolsVersion\": \"0.3.4\", \"valueTowardsCompletion\": 0.0, \"failureMessage\": \"\", \"exceptionClass\": \"\", \"trace\": \"\", \"outcomeType\": 4}}, \"*\")"
      ],
      "text/plain": [
       "<IPython.core.display.Javascript object>"
      ]
     },
     "metadata": {},
     "output_type": "display_data"
    },
    {
     "data": {
      "text/markdown": [
       "<span style=\"color:#3366cc\">Hint:</span> Refer to the section of the last tutorial notebook where we talked about default arguments"
      ],
      "text/plain": [
       "Hint: Refer to the section of the last tutorial notebook where we talked about default arguments"
      ]
     },
     "metadata": {},
     "output_type": "display_data"
    }
   ],
   "source": [
    "q3.hint()"
   ]
  },
  {
   "cell_type": "code",
   "execution_count": 8,
   "id": "6470ed99",
   "metadata": {
    "execution": {
     "iopub.execute_input": "2023-03-25T05:21:26.053755Z",
     "iopub.status.busy": "2023-03-25T05:21:26.053305Z",
     "iopub.status.idle": "2023-03-25T05:21:26.064223Z",
     "shell.execute_reply": "2023-03-25T05:21:26.062973Z"
    },
    "papermill": {
     "duration": 0.021776,
     "end_time": "2023-03-25T05:21:26.067065",
     "exception": false,
     "start_time": "2023-03-25T05:21:26.045289",
     "status": "completed"
    },
    "tags": []
   },
   "outputs": [
    {
     "data": {
      "application/javascript": [
       "parent.postMessage({\"jupyterEvent\": \"custom.exercise_interaction\", \"data\": {\"interactionType\": 3, \"questionType\": 2, \"questionId\": \"3_CandySmashingFunctionProblem\", \"learnToolsVersion\": \"0.3.4\", \"valueTowardsCompletion\": 0.0, \"failureMessage\": \"\", \"exceptionClass\": \"\", \"trace\": \"\", \"outcomeType\": 4}}, \"*\")"
      ],
      "text/plain": [
       "<IPython.core.display.Javascript object>"
      ]
     },
     "metadata": {},
     "output_type": "display_data"
    },
    {
     "data": {
      "text/markdown": [
       "<span style=\"color:#33cc99\">Solution:</span> \n",
       "```python\n",
       "def to_smash(total_candies, n_friends=3):\n",
       "    return total_candies % n_friends\n",
       "```"
      ],
      "text/plain": [
       "Solution: \n",
       "```python\n",
       "def to_smash(total_candies, n_friends=3):\n",
       "    return total_candies % n_friends\n",
       "```"
      ]
     },
     "metadata": {},
     "output_type": "display_data"
    }
   ],
   "source": [
    "q3.solution()"
   ]
  },
  {
   "cell_type": "markdown",
   "id": "8951f4e5",
   "metadata": {
    "papermill": {
     "duration": 0.006045,
     "end_time": "2023-03-25T05:21:26.079641",
     "exception": false,
     "start_time": "2023-03-25T05:21:26.073596",
     "status": "completed"
    },
    "tags": []
   },
   "source": [
    "# 4. (Optional)\n",
    "\n",
    "It may not be fun, but reading and understanding error messages will be an important part of your Python career.\n",
    "\n",
    "Each code cell below contains some commented buggy code. For each cell...\n",
    "\n",
    "1. Read the code and predict what you think will happen when it's run.\n",
    "2. Then uncomment the code and run it to see what happens. (**Tip**: In the kernel editor, you can highlight several lines and press `ctrl`+`/` to toggle commenting.)\n",
    "3. Fix the code (so that it accomplishes its intended purpose without throwing an exception)\n",
    "\n",
    "<!-- TODO: should this be autochecked? Delta is probably pretty small. -->"
   ]
  },
  {
   "cell_type": "code",
   "execution_count": 9,
   "id": "57bbbe91",
   "metadata": {
    "execution": {
     "iopub.execute_input": "2023-03-25T05:21:26.095907Z",
     "iopub.status.busy": "2023-03-25T05:21:26.095044Z",
     "iopub.status.idle": "2023-03-25T05:21:26.104329Z",
     "shell.execute_reply": "2023-03-25T05:21:26.102456Z"
    },
    "papermill": {
     "duration": 0.020554,
     "end_time": "2023-03-25T05:21:26.107539",
     "exception": false,
     "start_time": "2023-03-25T05:21:26.086985",
     "status": "completed"
    },
    "tags": []
   },
   "outputs": [
    {
     "data": {
      "text/plain": [
       "10.0"
      ]
     },
     "execution_count": 9,
     "metadata": {},
     "output_type": "execute_result"
    }
   ],
   "source": [
    "round_to_two_places(9.9999)"
   ]
  },
  {
   "cell_type": "code",
   "execution_count": 10,
   "id": "803629f3",
   "metadata": {
    "execution": {
     "iopub.execute_input": "2023-03-25T05:21:26.123020Z",
     "iopub.status.busy": "2023-03-25T05:21:26.122563Z",
     "iopub.status.idle": "2023-03-25T05:21:26.131980Z",
     "shell.execute_reply": "2023-03-25T05:21:26.130370Z"
    },
    "papermill": {
     "duration": 0.020706,
     "end_time": "2023-03-25T05:21:26.134919",
     "exception": false,
     "start_time": "2023-03-25T05:21:26.114213",
     "status": "completed"
    },
    "tags": []
   },
   "outputs": [
    {
     "data": {
      "text/plain": [
       "10"
      ]
     },
     "execution_count": 10,
     "metadata": {},
     "output_type": "execute_result"
    }
   ],
   "source": [
    "x = -10\n",
    "y = 5\n",
    "# Which of the two variables above has the smallest absolute value?\n",
    "smallest_abs = abs(min(x, y))\n",
    "smallest_abs"
   ]
  },
  {
   "cell_type": "code",
   "execution_count": 11,
   "id": "f9697c55",
   "metadata": {
    "execution": {
     "iopub.execute_input": "2023-03-25T05:21:26.150592Z",
     "iopub.status.busy": "2023-03-25T05:21:26.150108Z",
     "iopub.status.idle": "2023-03-25T05:21:26.156713Z",
     "shell.execute_reply": "2023-03-25T05:21:26.155363Z"
    },
    "papermill": {
     "duration": 0.01794,
     "end_time": "2023-03-25T05:21:26.159556",
     "exception": false,
     "start_time": "2023-03-25T05:21:26.141616",
     "status": "completed"
    },
    "tags": []
   },
   "outputs": [
    {
     "name": "stdout",
     "output_type": "stream",
     "text": [
      "5\n"
     ]
    }
   ],
   "source": [
    "def f(x):\n",
    "    y = abs(x)\n",
    "    return y\n",
    "\n",
    "print(f(5))"
   ]
  },
  {
   "cell_type": "markdown",
   "id": "77d6b856",
   "metadata": {
    "papermill": {
     "duration": 0.007281,
     "end_time": "2023-03-25T05:21:26.174877",
     "exception": false,
     "start_time": "2023-03-25T05:21:26.167596",
     "status": "completed"
    },
    "tags": []
   },
   "source": [
    "# Keep Going\n",
    "\n",
    "Nice job with the code. Next up, you'll learn about *conditionals*, which you'll need to **[write interesting programs](https://www.kaggle.com/colinmorris/booleans-and-conditionals)**. "
   ]
  },
  {
   "cell_type": "markdown",
   "id": "5377f4ef",
   "metadata": {
    "papermill": {
     "duration": 0.006451,
     "end_time": "2023-03-25T05:21:26.189143",
     "exception": false,
     "start_time": "2023-03-25T05:21:26.182692",
     "status": "completed"
    },
    "tags": []
   },
   "source": [
    "---\n",
    "\n",
    "\n",
    "\n",
    "\n",
    "*Have questions or comments? Visit the [course discussion forum](https://www.kaggle.com/learn/python/discussion) to chat with other learners.*"
   ]
  }
 ],
 "metadata": {
  "kernelspec": {
   "display_name": "Python 3",
   "language": "python",
   "name": "python3"
  },
  "language_info": {
   "codemirror_mode": {
    "name": "ipython",
    "version": 3
   },
   "file_extension": ".py",
   "mimetype": "text/x-python",
   "name": "python",
   "nbconvert_exporter": "python",
   "pygments_lexer": "ipython3",
   "version": "3.7.12"
  },
  "papermill": {
   "default_parameters": {},
   "duration": 13.712463,
   "end_time": "2023-03-25T05:21:26.919778",
   "environment_variables": {},
   "exception": null,
   "input_path": "__notebook__.ipynb",
   "output_path": "__notebook__.ipynb",
   "parameters": {},
   "start_time": "2023-03-25T05:21:13.207315",
   "version": "2.4.0"
  }
 },
 "nbformat": 4,
 "nbformat_minor": 5
}
