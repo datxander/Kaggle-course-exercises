{
 "cells": [
  {
   "cell_type": "markdown",
   "id": "d0f1e458",
   "metadata": {
    "papermill": {
     "duration": 0.014618,
     "end_time": "2023-05-03T13:19:56.635859",
     "exception": false,
     "start_time": "2023-05-03T13:19:56.621241",
     "status": "completed"
    },
    "tags": []
   },
   "source": [
    "**This notebook is an exercise in the [Intermediate Machine Learning](https://www.kaggle.com/learn/intermediate-machine-learning) course.  You can reference the tutorial at [this link](https://www.kaggle.com/alexisbcook/categorical-variables).**\n",
    "\n",
    "---\n"
   ]
  },
  {
   "cell_type": "markdown",
   "id": "2af1be14",
   "metadata": {
    "papermill": {
     "duration": 0.011714,
     "end_time": "2023-05-03T13:19:56.657461",
     "exception": false,
     "start_time": "2023-05-03T13:19:56.645747",
     "status": "completed"
    },
    "tags": []
   },
   "source": [
    "By encoding **categorical variables**, you'll obtain your best results thus far!\n",
    "\n",
    "# Setup\n",
    "\n",
    "The questions below will give you feedback on your work. Run the following cell to set up the feedback system."
   ]
  },
  {
   "cell_type": "code",
   "execution_count": 1,
   "id": "bdbc149c",
   "metadata": {
    "execution": {
     "iopub.execute_input": "2023-05-03T13:19:56.682012Z",
     "iopub.status.busy": "2023-05-03T13:19:56.681208Z",
     "iopub.status.idle": "2023-05-03T13:19:56.733289Z",
     "shell.execute_reply": "2023-05-03T13:19:56.732509Z"
    },
    "papermill": {
     "duration": 0.06558,
     "end_time": "2023-05-03T13:19:56.735576",
     "exception": false,
     "start_time": "2023-05-03T13:19:56.669996",
     "status": "completed"
    },
    "tags": []
   },
   "outputs": [
    {
     "name": "stdout",
     "output_type": "stream",
     "text": [
      "Setup Complete\n"
     ]
    }
   ],
   "source": [
    "# Set up code checking\n",
    "import os\n",
    "if not os.path.exists(\"../input/train.csv\"):\n",
    "    os.symlink(\"../input/home-data-for-ml-course/train.csv\", \"../input/train.csv\")  \n",
    "    os.symlink(\"../input/home-data-for-ml-course/test.csv\", \"../input/test.csv\") \n",
    "from learntools.core import binder\n",
    "binder.bind(globals())\n",
    "from learntools.ml_intermediate.ex3 import *\n",
    "print(\"Setup Complete\")"
   ]
  },
  {
   "cell_type": "markdown",
   "id": "7a83f24e",
   "metadata": {
    "papermill": {
     "duration": 0.00863,
     "end_time": "2023-05-03T13:19:56.753016",
     "exception": false,
     "start_time": "2023-05-03T13:19:56.744386",
     "status": "completed"
    },
    "tags": []
   },
   "source": [
    "In this exercise, you will work with data from the [Housing Prices Competition for Kaggle Learn Users](https://www.kaggle.com/c/home-data-for-ml-course). \n",
    "\n",
    "![Ames Housing dataset image](https://storage.googleapis.com/kaggle-media/learn/images/lTJVG4e.png)\n",
    "\n",
    "Run the next code cell without changes to load the training and validation sets in `X_train`, `X_valid`, `y_train`, and `y_valid`.  The test set is loaded in `X_test`."
   ]
  },
  {
   "cell_type": "code",
   "execution_count": 2,
   "id": "5297f488",
   "metadata": {
    "execution": {
     "iopub.execute_input": "2023-05-03T13:19:56.772476Z",
     "iopub.status.busy": "2023-05-03T13:19:56.772032Z",
     "iopub.status.idle": "2023-05-03T13:19:58.280202Z",
     "shell.execute_reply": "2023-05-03T13:19:58.279173Z"
    },
    "papermill": {
     "duration": 1.520997,
     "end_time": "2023-05-03T13:19:58.282698",
     "exception": false,
     "start_time": "2023-05-03T13:19:56.761701",
     "status": "completed"
    },
    "tags": []
   },
   "outputs": [
    {
     "name": "stderr",
     "output_type": "stream",
     "text": [
      "/opt/conda/lib/python3.10/site-packages/scipy/__init__.py:146: UserWarning: A NumPy version >=1.16.5 and <1.23.0 is required for this version of SciPy (detected version 1.23.5\n",
      "  warnings.warn(f\"A NumPy version >={np_minversion} and <{np_maxversion}\"\n"
     ]
    }
   ],
   "source": [
    "import pandas as pd\n",
    "from sklearn.model_selection import train_test_split\n",
    "\n",
    "# Read the data\n",
    "X = pd.read_csv('../input/train.csv', index_col='Id') \n",
    "X_test = pd.read_csv('../input/test.csv', index_col='Id')\n",
    "\n",
    "# Remove rows with missing target, separate target from predictors\n",
    "X.dropna(axis=0, subset=['SalePrice'], inplace=True)\n",
    "y = X.SalePrice\n",
    "X.drop(['SalePrice'], axis=1, inplace=True)\n",
    "\n",
    "# To keep things simple, we'll drop columns with missing values\n",
    "cols_with_missing = [col for col in X.columns if X[col].isnull().any()] \n",
    "X.drop(cols_with_missing, axis=1, inplace=True)\n",
    "X_test.drop(cols_with_missing, axis=1, inplace=True)\n",
    "\n",
    "# Break off validation set from training data\n",
    "X_train, X_valid, y_train, y_valid = train_test_split(X, y,\n",
    "                                                      train_size=0.8, test_size=0.2,\n",
    "                                                      random_state=0)"
   ]
  },
  {
   "cell_type": "markdown",
   "id": "6f19e266",
   "metadata": {
    "papermill": {
     "duration": 0.008645,
     "end_time": "2023-05-03T13:19:58.300111",
     "exception": false,
     "start_time": "2023-05-03T13:19:58.291466",
     "status": "completed"
    },
    "tags": []
   },
   "source": [
    "Use the next code cell to print the first five rows of the data."
   ]
  },
  {
   "cell_type": "code",
   "execution_count": 3,
   "id": "cee49cb2",
   "metadata": {
    "execution": {
     "iopub.execute_input": "2023-05-03T13:19:58.319302Z",
     "iopub.status.busy": "2023-05-03T13:19:58.318909Z",
     "iopub.status.idle": "2023-05-03T13:19:58.354842Z",
     "shell.execute_reply": "2023-05-03T13:19:58.353644Z"
    },
    "papermill": {
     "duration": 0.048447,
     "end_time": "2023-05-03T13:19:58.357317",
     "exception": false,
     "start_time": "2023-05-03T13:19:58.308870",
     "status": "completed"
    },
    "tags": []
   },
   "outputs": [
    {
     "data": {
      "text/html": [
       "<div>\n",
       "<style scoped>\n",
       "    .dataframe tbody tr th:only-of-type {\n",
       "        vertical-align: middle;\n",
       "    }\n",
       "\n",
       "    .dataframe tbody tr th {\n",
       "        vertical-align: top;\n",
       "    }\n",
       "\n",
       "    .dataframe thead th {\n",
       "        text-align: right;\n",
       "    }\n",
       "</style>\n",
       "<table border=\"1\" class=\"dataframe\">\n",
       "  <thead>\n",
       "    <tr style=\"text-align: right;\">\n",
       "      <th></th>\n",
       "      <th>MSSubClass</th>\n",
       "      <th>MSZoning</th>\n",
       "      <th>LotArea</th>\n",
       "      <th>Street</th>\n",
       "      <th>LotShape</th>\n",
       "      <th>LandContour</th>\n",
       "      <th>Utilities</th>\n",
       "      <th>LotConfig</th>\n",
       "      <th>LandSlope</th>\n",
       "      <th>Neighborhood</th>\n",
       "      <th>...</th>\n",
       "      <th>OpenPorchSF</th>\n",
       "      <th>EnclosedPorch</th>\n",
       "      <th>3SsnPorch</th>\n",
       "      <th>ScreenPorch</th>\n",
       "      <th>PoolArea</th>\n",
       "      <th>MiscVal</th>\n",
       "      <th>MoSold</th>\n",
       "      <th>YrSold</th>\n",
       "      <th>SaleType</th>\n",
       "      <th>SaleCondition</th>\n",
       "    </tr>\n",
       "    <tr>\n",
       "      <th>Id</th>\n",
       "      <th></th>\n",
       "      <th></th>\n",
       "      <th></th>\n",
       "      <th></th>\n",
       "      <th></th>\n",
       "      <th></th>\n",
       "      <th></th>\n",
       "      <th></th>\n",
       "      <th></th>\n",
       "      <th></th>\n",
       "      <th></th>\n",
       "      <th></th>\n",
       "      <th></th>\n",
       "      <th></th>\n",
       "      <th></th>\n",
       "      <th></th>\n",
       "      <th></th>\n",
       "      <th></th>\n",
       "      <th></th>\n",
       "      <th></th>\n",
       "      <th></th>\n",
       "    </tr>\n",
       "  </thead>\n",
       "  <tbody>\n",
       "    <tr>\n",
       "      <th>619</th>\n",
       "      <td>20</td>\n",
       "      <td>RL</td>\n",
       "      <td>11694</td>\n",
       "      <td>Pave</td>\n",
       "      <td>Reg</td>\n",
       "      <td>Lvl</td>\n",
       "      <td>AllPub</td>\n",
       "      <td>Inside</td>\n",
       "      <td>Gtl</td>\n",
       "      <td>NridgHt</td>\n",
       "      <td>...</td>\n",
       "      <td>108</td>\n",
       "      <td>0</td>\n",
       "      <td>0</td>\n",
       "      <td>260</td>\n",
       "      <td>0</td>\n",
       "      <td>0</td>\n",
       "      <td>7</td>\n",
       "      <td>2007</td>\n",
       "      <td>New</td>\n",
       "      <td>Partial</td>\n",
       "    </tr>\n",
       "    <tr>\n",
       "      <th>871</th>\n",
       "      <td>20</td>\n",
       "      <td>RL</td>\n",
       "      <td>6600</td>\n",
       "      <td>Pave</td>\n",
       "      <td>Reg</td>\n",
       "      <td>Lvl</td>\n",
       "      <td>AllPub</td>\n",
       "      <td>Inside</td>\n",
       "      <td>Gtl</td>\n",
       "      <td>NAmes</td>\n",
       "      <td>...</td>\n",
       "      <td>0</td>\n",
       "      <td>0</td>\n",
       "      <td>0</td>\n",
       "      <td>0</td>\n",
       "      <td>0</td>\n",
       "      <td>0</td>\n",
       "      <td>8</td>\n",
       "      <td>2009</td>\n",
       "      <td>WD</td>\n",
       "      <td>Normal</td>\n",
       "    </tr>\n",
       "    <tr>\n",
       "      <th>93</th>\n",
       "      <td>30</td>\n",
       "      <td>RL</td>\n",
       "      <td>13360</td>\n",
       "      <td>Pave</td>\n",
       "      <td>IR1</td>\n",
       "      <td>HLS</td>\n",
       "      <td>AllPub</td>\n",
       "      <td>Inside</td>\n",
       "      <td>Gtl</td>\n",
       "      <td>Crawfor</td>\n",
       "      <td>...</td>\n",
       "      <td>0</td>\n",
       "      <td>44</td>\n",
       "      <td>0</td>\n",
       "      <td>0</td>\n",
       "      <td>0</td>\n",
       "      <td>0</td>\n",
       "      <td>8</td>\n",
       "      <td>2009</td>\n",
       "      <td>WD</td>\n",
       "      <td>Normal</td>\n",
       "    </tr>\n",
       "    <tr>\n",
       "      <th>818</th>\n",
       "      <td>20</td>\n",
       "      <td>RL</td>\n",
       "      <td>13265</td>\n",
       "      <td>Pave</td>\n",
       "      <td>IR1</td>\n",
       "      <td>Lvl</td>\n",
       "      <td>AllPub</td>\n",
       "      <td>CulDSac</td>\n",
       "      <td>Gtl</td>\n",
       "      <td>Mitchel</td>\n",
       "      <td>...</td>\n",
       "      <td>59</td>\n",
       "      <td>0</td>\n",
       "      <td>0</td>\n",
       "      <td>0</td>\n",
       "      <td>0</td>\n",
       "      <td>0</td>\n",
       "      <td>7</td>\n",
       "      <td>2008</td>\n",
       "      <td>WD</td>\n",
       "      <td>Normal</td>\n",
       "    </tr>\n",
       "    <tr>\n",
       "      <th>303</th>\n",
       "      <td>20</td>\n",
       "      <td>RL</td>\n",
       "      <td>13704</td>\n",
       "      <td>Pave</td>\n",
       "      <td>IR1</td>\n",
       "      <td>Lvl</td>\n",
       "      <td>AllPub</td>\n",
       "      <td>Corner</td>\n",
       "      <td>Gtl</td>\n",
       "      <td>CollgCr</td>\n",
       "      <td>...</td>\n",
       "      <td>81</td>\n",
       "      <td>0</td>\n",
       "      <td>0</td>\n",
       "      <td>0</td>\n",
       "      <td>0</td>\n",
       "      <td>0</td>\n",
       "      <td>1</td>\n",
       "      <td>2006</td>\n",
       "      <td>WD</td>\n",
       "      <td>Normal</td>\n",
       "    </tr>\n",
       "  </tbody>\n",
       "</table>\n",
       "<p>5 rows × 60 columns</p>\n",
       "</div>"
      ],
      "text/plain": [
       "     MSSubClass MSZoning  LotArea Street LotShape LandContour Utilities  \\\n",
       "Id                                                                        \n",
       "619          20       RL    11694   Pave      Reg         Lvl    AllPub   \n",
       "871          20       RL     6600   Pave      Reg         Lvl    AllPub   \n",
       "93           30       RL    13360   Pave      IR1         HLS    AllPub   \n",
       "818          20       RL    13265   Pave      IR1         Lvl    AllPub   \n",
       "303          20       RL    13704   Pave      IR1         Lvl    AllPub   \n",
       "\n",
       "    LotConfig LandSlope Neighborhood  ... OpenPorchSF EnclosedPorch 3SsnPorch  \\\n",
       "Id                                    ...                                       \n",
       "619    Inside       Gtl      NridgHt  ...         108             0         0   \n",
       "871    Inside       Gtl        NAmes  ...           0             0         0   \n",
       "93     Inside       Gtl      Crawfor  ...           0            44         0   \n",
       "818   CulDSac       Gtl      Mitchel  ...          59             0         0   \n",
       "303    Corner       Gtl      CollgCr  ...          81             0         0   \n",
       "\n",
       "    ScreenPorch  PoolArea  MiscVal  MoSold  YrSold SaleType SaleCondition  \n",
       "Id                                                                         \n",
       "619         260         0        0       7    2007      New       Partial  \n",
       "871           0         0        0       8    2009       WD        Normal  \n",
       "93            0         0        0       8    2009       WD        Normal  \n",
       "818           0         0        0       7    2008       WD        Normal  \n",
       "303           0         0        0       1    2006       WD        Normal  \n",
       "\n",
       "[5 rows x 60 columns]"
      ]
     },
     "execution_count": 3,
     "metadata": {},
     "output_type": "execute_result"
    }
   ],
   "source": [
    "X_train.head()"
   ]
  },
  {
   "cell_type": "markdown",
   "id": "4943413b",
   "metadata": {
    "papermill": {
     "duration": 0.008733,
     "end_time": "2023-05-03T13:19:58.375523",
     "exception": false,
     "start_time": "2023-05-03T13:19:58.366790",
     "status": "completed"
    },
    "tags": []
   },
   "source": [
    "Notice that the dataset contains both numerical and categorical variables.  You'll need to encode the categorical data before training a model.\n",
    "\n",
    "To compare different models, you'll use the same `score_dataset()` function from the tutorial.  This function reports the [mean absolute error](https://en.wikipedia.org/wiki/Mean_absolute_error) (MAE) from a random forest model."
   ]
  },
  {
   "cell_type": "code",
   "execution_count": 4,
   "id": "432c3625",
   "metadata": {
    "execution": {
     "iopub.execute_input": "2023-05-03T13:19:58.395851Z",
     "iopub.status.busy": "2023-05-03T13:19:58.395377Z",
     "iopub.status.idle": "2023-05-03T13:19:58.800140Z",
     "shell.execute_reply": "2023-05-03T13:19:58.798923Z"
    },
    "papermill": {
     "duration": 0.41833,
     "end_time": "2023-05-03T13:19:58.802862",
     "exception": false,
     "start_time": "2023-05-03T13:19:58.384532",
     "status": "completed"
    },
    "tags": []
   },
   "outputs": [],
   "source": [
    "from sklearn.ensemble import RandomForestRegressor\n",
    "from sklearn.metrics import mean_absolute_error\n",
    "\n",
    "# function for comparing different approaches\n",
    "def score_dataset(X_train, X_valid, y_train, y_valid):\n",
    "    model = RandomForestRegressor(n_estimators=100, random_state=0)\n",
    "    model.fit(X_train, y_train)\n",
    "    preds = model.predict(X_valid)\n",
    "    return mean_absolute_error(y_valid, preds)"
   ]
  },
  {
   "cell_type": "markdown",
   "id": "1d495c0d",
   "metadata": {
    "papermill": {
     "duration": 0.009091,
     "end_time": "2023-05-03T13:19:58.821157",
     "exception": false,
     "start_time": "2023-05-03T13:19:58.812066",
     "status": "completed"
    },
    "tags": []
   },
   "source": [
    "# Step 1: Drop columns with categorical data\n",
    "\n",
    "You'll get started with the most straightforward approach.  Use the code cell below to preprocess the data in `X_train` and `X_valid` to remove columns with categorical data.  Set the preprocessed DataFrames to `drop_X_train` and `drop_X_valid`, respectively.  "
   ]
  },
  {
   "cell_type": "code",
   "execution_count": 5,
   "id": "f5ecb17d",
   "metadata": {
    "execution": {
     "iopub.execute_input": "2023-05-03T13:19:58.842415Z",
     "iopub.status.busy": "2023-05-03T13:19:58.841996Z",
     "iopub.status.idle": "2023-05-03T13:19:58.854184Z",
     "shell.execute_reply": "2023-05-03T13:19:58.852925Z"
    },
    "papermill": {
     "duration": 0.025765,
     "end_time": "2023-05-03T13:19:58.856537",
     "exception": false,
     "start_time": "2023-05-03T13:19:58.830772",
     "status": "completed"
    },
    "tags": []
   },
   "outputs": [
    {
     "data": {
      "application/javascript": [
       "parent.postMessage({\"jupyterEvent\": \"custom.exercise_interaction\", \"data\": {\"outcomeType\": 1, \"valueTowardsCompletion\": 0.5, \"interactionType\": 1, \"questionType\": 2, \"questionId\": \"1_Drop\", \"learnToolsVersion\": \"0.3.4\", \"failureMessage\": \"\", \"exceptionClass\": \"\", \"trace\": \"\"}}, \"*\")"
      ],
      "text/plain": [
       "<IPython.core.display.Javascript object>"
      ]
     },
     "metadata": {},
     "output_type": "display_data"
    },
    {
     "data": {
      "text/markdown": [
       "<span style=\"color:#33cc33\">Correct</span>"
      ],
      "text/plain": [
       "Correct"
      ]
     },
     "metadata": {},
     "output_type": "display_data"
    }
   ],
   "source": [
    "# Fill in the lines below: drop columns in training and validation data\n",
    "drop_X_train = X_train.select_dtypes(exclude = 'object')\n",
    "drop_X_valid = X_valid.select_dtypes(exclude = 'object')\n",
    "\n",
    "# Check your answers\n",
    "step_1.check()"
   ]
  },
  {
   "cell_type": "code",
   "execution_count": 6,
   "id": "d285a22b",
   "metadata": {
    "execution": {
     "iopub.execute_input": "2023-05-03T13:19:58.877350Z",
     "iopub.status.busy": "2023-05-03T13:19:58.876908Z",
     "iopub.status.idle": "2023-05-03T13:19:58.882189Z",
     "shell.execute_reply": "2023-05-03T13:19:58.880991Z"
    },
    "papermill": {
     "duration": 0.018659,
     "end_time": "2023-05-03T13:19:58.884584",
     "exception": false,
     "start_time": "2023-05-03T13:19:58.865925",
     "status": "completed"
    },
    "tags": []
   },
   "outputs": [],
   "source": [
    "# Lines below will give you a hint or solution code\n",
    "#step_1.hint()\n",
    "#step_1.solution()"
   ]
  },
  {
   "cell_type": "markdown",
   "id": "909dd7c1",
   "metadata": {
    "papermill": {
     "duration": 0.00893,
     "end_time": "2023-05-03T13:19:58.903268",
     "exception": false,
     "start_time": "2023-05-03T13:19:58.894338",
     "status": "completed"
    },
    "tags": []
   },
   "source": [
    "Run the next code cell to get the MAE for this approach."
   ]
  },
  {
   "cell_type": "code",
   "execution_count": 7,
   "id": "ed680e4e",
   "metadata": {
    "execution": {
     "iopub.execute_input": "2023-05-03T13:19:58.924354Z",
     "iopub.status.busy": "2023-05-03T13:19:58.923917Z",
     "iopub.status.idle": "2023-05-03T13:20:00.222217Z",
     "shell.execute_reply": "2023-05-03T13:20:00.220466Z"
    },
    "papermill": {
     "duration": 1.312376,
     "end_time": "2023-05-03T13:20:00.225026",
     "exception": false,
     "start_time": "2023-05-03T13:19:58.912650",
     "status": "completed"
    },
    "tags": []
   },
   "outputs": [
    {
     "name": "stdout",
     "output_type": "stream",
     "text": [
      "MAE from Approach 1 (Drop categorical variables):\n",
      "17837.82570776256\n"
     ]
    }
   ],
   "source": [
    "print(\"MAE from Approach 1 (Drop categorical variables):\")\n",
    "print(score_dataset(drop_X_train, drop_X_valid, y_train, y_valid))"
   ]
  },
  {
   "cell_type": "markdown",
   "id": "4d94ae7b",
   "metadata": {
    "papermill": {
     "duration": 0.009298,
     "end_time": "2023-05-03T13:20:00.244785",
     "exception": false,
     "start_time": "2023-05-03T13:20:00.235487",
     "status": "completed"
    },
    "tags": []
   },
   "source": [
    "Before jumping into ordinal encoding, we'll investigate the dataset.  Specifically, we'll look at the `'Condition2'` column.  The code cell below prints the unique entries in both the training and validation sets."
   ]
  },
  {
   "cell_type": "code",
   "execution_count": 8,
   "id": "65fafd45",
   "metadata": {
    "execution": {
     "iopub.execute_input": "2023-05-03T13:20:00.266859Z",
     "iopub.status.busy": "2023-05-03T13:20:00.266086Z",
     "iopub.status.idle": "2023-05-03T13:20:00.273190Z",
     "shell.execute_reply": "2023-05-03T13:20:00.271919Z"
    },
    "papermill": {
     "duration": 0.021247,
     "end_time": "2023-05-03T13:20:00.275842",
     "exception": false,
     "start_time": "2023-05-03T13:20:00.254595",
     "status": "completed"
    },
    "tags": []
   },
   "outputs": [
    {
     "name": "stdout",
     "output_type": "stream",
     "text": [
      "Unique values in 'Condition2' column in training data: ['Norm' 'PosA' 'Feedr' 'PosN' 'Artery' 'RRAe']\n",
      "\n",
      "Unique values in 'Condition2' column in validation data: ['Norm' 'RRAn' 'RRNn' 'Artery' 'Feedr' 'PosN']\n"
     ]
    }
   ],
   "source": [
    "print(\"Unique values in 'Condition2' column in training data:\", X_train['Condition2'].unique())\n",
    "print(\"\\nUnique values in 'Condition2' column in validation data:\", X_valid['Condition2'].unique())"
   ]
  },
  {
   "cell_type": "markdown",
   "id": "c4f536af",
   "metadata": {
    "papermill": {
     "duration": 0.00928,
     "end_time": "2023-05-03T13:20:00.295166",
     "exception": false,
     "start_time": "2023-05-03T13:20:00.285886",
     "status": "completed"
    },
    "tags": []
   },
   "source": [
    "# Step 2: Ordinal encoding\n",
    "\n",
    "### Part A\n",
    "\n",
    "If you now write code to: \n",
    "- fit an ordinal encoder to the training data, and then \n",
    "- use it to transform both the training and validation data, \n",
    "\n",
    "you'll get an error.  Can you see why this is the case?  (_You'll need  to use the above output to answer this question._)"
   ]
  },
  {
   "cell_type": "code",
   "execution_count": 9,
   "id": "c72fe3be",
   "metadata": {
    "execution": {
     "iopub.execute_input": "2023-05-03T13:20:00.317969Z",
     "iopub.status.busy": "2023-05-03T13:20:00.316829Z",
     "iopub.status.idle": "2023-05-03T13:20:00.325557Z",
     "shell.execute_reply": "2023-05-03T13:20:00.324524Z"
    },
    "papermill": {
     "duration": 0.02219,
     "end_time": "2023-05-03T13:20:00.327707",
     "exception": false,
     "start_time": "2023-05-03T13:20:00.305517",
     "status": "completed"
    },
    "tags": []
   },
   "outputs": [
    {
     "data": {
      "application/javascript": [
       "parent.postMessage({\"jupyterEvent\": \"custom.exercise_interaction\", \"data\": {\"outcomeType\": 1, \"valueTowardsCompletion\": 0.5, \"interactionType\": 1, \"questionType\": 4, \"questionId\": \"2.1_LabelA\", \"learnToolsVersion\": \"0.3.4\", \"failureMessage\": \"\", \"exceptionClass\": \"\", \"trace\": \"\"}}, \"*\")"
      ],
      "text/plain": [
       "<IPython.core.display.Javascript object>"
      ]
     },
     "metadata": {},
     "output_type": "display_data"
    },
    {
     "data": {
      "text/markdown": [
       "<span style=\"color:#33cc33\">Correct:</span> \n",
       "\n",
       "Fitting an ordinal encoder to a column in the training data creates a corresponding integer-valued label for each unique value **that appears in the training data**. In the case that the validation data contains values that don't also appear in the training data, the encoder will throw an error, because these values won't have an integer assigned to them.  Notice that the `'Condition2'` column in the validation data contains the values `'RRAn'` and `'RRNn'`, but these don't appear in the training data -- thus, if we try to use an ordinal encoder with scikit-learn, the code will throw an error."
      ],
      "text/plain": [
       "Correct: \n",
       "\n",
       "Fitting an ordinal encoder to a column in the training data creates a corresponding integer-valued label for each unique value **that appears in the training data**. In the case that the validation data contains values that don't also appear in the training data, the encoder will throw an error, because these values won't have an integer assigned to them.  Notice that the `'Condition2'` column in the validation data contains the values `'RRAn'` and `'RRNn'`, but these don't appear in the training data -- thus, if we try to use an ordinal encoder with scikit-learn, the code will throw an error."
      ]
     },
     "metadata": {},
     "output_type": "display_data"
    }
   ],
   "source": [
    "# Check your answer (Run this code cell to receive credit!)\n",
    "step_2.a.check()"
   ]
  },
  {
   "cell_type": "code",
   "execution_count": 10,
   "id": "d33c3f45",
   "metadata": {
    "execution": {
     "iopub.execute_input": "2023-05-03T13:20:00.349351Z",
     "iopub.status.busy": "2023-05-03T13:20:00.348917Z",
     "iopub.status.idle": "2023-05-03T13:20:00.354187Z",
     "shell.execute_reply": "2023-05-03T13:20:00.352344Z"
    },
    "papermill": {
     "duration": 0.019054,
     "end_time": "2023-05-03T13:20:00.356571",
     "exception": false,
     "start_time": "2023-05-03T13:20:00.337517",
     "status": "completed"
    },
    "tags": []
   },
   "outputs": [],
   "source": [
    "#step_2.a.hint()"
   ]
  },
  {
   "cell_type": "markdown",
   "id": "5a10da79",
   "metadata": {
    "papermill": {
     "duration": 0.009829,
     "end_time": "2023-05-03T13:20:00.377134",
     "exception": false,
     "start_time": "2023-05-03T13:20:00.367305",
     "status": "completed"
    },
    "tags": []
   },
   "source": [
    "This is a common problem that you'll encounter with real-world data, and there are many approaches to fixing this issue.  For instance, you can write a custom ordinal encoder to deal with new categories.  The simplest approach, however, is to drop the problematic categorical columns.  \n",
    "\n",
    "Run the code cell below to save the problematic columns to a Python list `bad_label_cols`.  Likewise, columns that can be safely ordinal encoded are stored in `good_label_cols`."
   ]
  },
  {
   "cell_type": "code",
   "execution_count": 11,
   "id": "25e3197f",
   "metadata": {
    "execution": {
     "iopub.execute_input": "2023-05-03T13:20:00.398663Z",
     "iopub.status.busy": "2023-05-03T13:20:00.398251Z",
     "iopub.status.idle": "2023-05-03T13:20:00.413806Z",
     "shell.execute_reply": "2023-05-03T13:20:00.412391Z"
    },
    "papermill": {
     "duration": 0.02904,
     "end_time": "2023-05-03T13:20:00.416063",
     "exception": false,
     "start_time": "2023-05-03T13:20:00.387023",
     "status": "completed"
    },
    "tags": []
   },
   "outputs": [
    {
     "name": "stdout",
     "output_type": "stream",
     "text": [
      "Categorical columns that will be ordinal encoded: ['MSZoning', 'Street', 'LotShape', 'LandContour', 'Utilities', 'LotConfig', 'LandSlope', 'Neighborhood', 'Condition1', 'BldgType', 'HouseStyle', 'RoofStyle', 'Exterior1st', 'Exterior2nd', 'ExterQual', 'ExterCond', 'Foundation', 'Heating', 'HeatingQC', 'CentralAir', 'KitchenQual', 'PavedDrive', 'SaleType', 'SaleCondition']\n",
      "\n",
      "Categorical columns that will be dropped from the dataset: ['RoofMatl', 'Condition2', 'Functional']\n"
     ]
    }
   ],
   "source": [
    "# Categorical columns in the training data\n",
    "object_cols = [col for col in X_train.columns if X_train[col].dtype == \"object\"]\n",
    "\n",
    "# Columns that can be safely ordinal encoded\n",
    "good_label_cols = [col for col in object_cols if \n",
    "                   set(X_valid[col]).issubset(set(X_train[col]))]\n",
    "        \n",
    "# Problematic columns that will be dropped from the dataset\n",
    "bad_label_cols = list(set(object_cols)-set(good_label_cols))\n",
    "        \n",
    "print('Categorical columns that will be ordinal encoded:', good_label_cols)\n",
    "print('\\nCategorical columns that will be dropped from the dataset:', bad_label_cols)"
   ]
  },
  {
   "cell_type": "markdown",
   "id": "28d469f7",
   "metadata": {
    "papermill": {
     "duration": 0.009609,
     "end_time": "2023-05-03T13:20:00.436007",
     "exception": false,
     "start_time": "2023-05-03T13:20:00.426398",
     "status": "completed"
    },
    "tags": []
   },
   "source": [
    "### Part B\n",
    "\n",
    "Use the next code cell to ordinal encode the data in `X_train` and `X_valid`.  Set the preprocessed DataFrames to `label_X_train` and `label_X_valid`, respectively.  \n",
    "- We have provided code below to drop the categorical columns in `bad_label_cols` from the dataset. \n",
    "- You should ordinal encode the categorical columns in `good_label_cols`.  "
   ]
  },
  {
   "cell_type": "code",
   "execution_count": 12,
   "id": "7badca47",
   "metadata": {
    "execution": {
     "iopub.execute_input": "2023-05-03T13:20:00.458082Z",
     "iopub.status.busy": "2023-05-03T13:20:00.457654Z",
     "iopub.status.idle": "2023-05-03T13:20:00.506370Z",
     "shell.execute_reply": "2023-05-03T13:20:00.505143Z"
    },
    "papermill": {
     "duration": 0.062747,
     "end_time": "2023-05-03T13:20:00.508621",
     "exception": false,
     "start_time": "2023-05-03T13:20:00.445874",
     "status": "completed"
    },
    "tags": []
   },
   "outputs": [
    {
     "data": {
      "application/javascript": [
       "parent.postMessage({\"jupyterEvent\": \"custom.exercise_interaction\", \"data\": {\"outcomeType\": 1, \"valueTowardsCompletion\": 0.5, \"interactionType\": 1, \"questionType\": 2, \"questionId\": \"2.2_LabelB\", \"learnToolsVersion\": \"0.3.4\", \"failureMessage\": \"\", \"exceptionClass\": \"\", \"trace\": \"\"}}, \"*\")"
      ],
      "text/plain": [
       "<IPython.core.display.Javascript object>"
      ]
     },
     "metadata": {},
     "output_type": "display_data"
    },
    {
     "data": {
      "text/markdown": [
       "<span style=\"color:#33cc33\">Correct</span>"
      ],
      "text/plain": [
       "Correct"
      ]
     },
     "metadata": {},
     "output_type": "display_data"
    }
   ],
   "source": [
    "from sklearn.preprocessing import OrdinalEncoder\n",
    "\n",
    "___ # Your code here\n",
    "\n",
    "# Drop categorical columns that will not be encoded\n",
    "label_X_train = X_train.drop(bad_label_cols, axis=1)\n",
    "label_X_valid = X_valid.drop(bad_label_cols, axis=1)\n",
    "\n",
    "# Apply ordinal encoder\n",
    "ordinal_encoder = OrdinalEncoder()\n",
    "label_X_train[good_label_cols] = ordinal_encoder.fit_transform(X_train[good_label_cols])\n",
    "label_X_valid[good_label_cols] = ordinal_encoder.transform(X_valid[good_label_cols])\n",
    "    \n",
    "# Check your answer\n",
    "step_2.b.check()"
   ]
  },
  {
   "cell_type": "code",
   "execution_count": 13,
   "id": "7c2fa2ce",
   "metadata": {
    "execution": {
     "iopub.execute_input": "2023-05-03T13:20:00.531180Z",
     "iopub.status.busy": "2023-05-03T13:20:00.530758Z",
     "iopub.status.idle": "2023-05-03T13:20:00.545575Z",
     "shell.execute_reply": "2023-05-03T13:20:00.544213Z"
    },
    "papermill": {
     "duration": 0.029635,
     "end_time": "2023-05-03T13:20:00.548472",
     "exception": false,
     "start_time": "2023-05-03T13:20:00.518837",
     "status": "completed"
    },
    "tags": []
   },
   "outputs": [
    {
     "data": {
      "application/javascript": [
       "parent.postMessage({\"jupyterEvent\": \"custom.exercise_interaction\", \"data\": {\"interactionType\": 2, \"questionType\": 2, \"questionId\": \"2.2_LabelB\", \"learnToolsVersion\": \"0.3.4\", \"valueTowardsCompletion\": 0.0, \"failureMessage\": \"\", \"exceptionClass\": \"\", \"trace\": \"\", \"outcomeType\": 4}}, \"*\")"
      ],
      "text/plain": [
       "<IPython.core.display.Javascript object>"
      ]
     },
     "metadata": {},
     "output_type": "display_data"
    },
    {
     "data": {
      "text/markdown": [
       "<span style=\"color:#3366cc\">Hint:</span> Use the `OrdinalEncoder` class from scikit-learn. You should only encode the columns in `good_label_cols`."
      ],
      "text/plain": [
       "Hint: Use the `OrdinalEncoder` class from scikit-learn. You should only encode the columns in `good_label_cols`."
      ]
     },
     "metadata": {},
     "output_type": "display_data"
    },
    {
     "data": {
      "application/javascript": [
       "parent.postMessage({\"jupyterEvent\": \"custom.exercise_interaction\", \"data\": {\"interactionType\": 3, \"questionType\": 2, \"questionId\": \"2.2_LabelB\", \"learnToolsVersion\": \"0.3.4\", \"valueTowardsCompletion\": 0.0, \"failureMessage\": \"\", \"exceptionClass\": \"\", \"trace\": \"\", \"outcomeType\": 4}}, \"*\")"
      ],
      "text/plain": [
       "<IPython.core.display.Javascript object>"
      ]
     },
     "metadata": {},
     "output_type": "display_data"
    },
    {
     "data": {
      "text/markdown": [
       "<span style=\"color:#33cc99\">Solution:</span> \n",
       "```python\n",
       "# Drop categorical columns that will not be encoded\n",
       "label_X_train = X_train.drop(bad_label_cols, axis=1)\n",
       "label_X_valid = X_valid.drop(bad_label_cols, axis=1)\n",
       "\n",
       "# Apply ordinal encoder\n",
       "ordinal_encoder = OrdinalEncoder()\n",
       "label_X_train[good_label_cols] = ordinal_encoder.fit_transform(X_train[good_label_cols])\n",
       "label_X_valid[good_label_cols] = ordinal_encoder.transform(X_valid[good_label_cols])\n",
       "\n",
       "```"
      ],
      "text/plain": [
       "Solution: \n",
       "```python\n",
       "# Drop categorical columns that will not be encoded\n",
       "label_X_train = X_train.drop(bad_label_cols, axis=1)\n",
       "label_X_valid = X_valid.drop(bad_label_cols, axis=1)\n",
       "\n",
       "# Apply ordinal encoder\n",
       "ordinal_encoder = OrdinalEncoder()\n",
       "label_X_train[good_label_cols] = ordinal_encoder.fit_transform(X_train[good_label_cols])\n",
       "label_X_valid[good_label_cols] = ordinal_encoder.transform(X_valid[good_label_cols])\n",
       "\n",
       "```"
      ]
     },
     "metadata": {},
     "output_type": "display_data"
    }
   ],
   "source": [
    "# Lines below will give you a hint or solution code\n",
    "step_2.b.hint()\n",
    "step_2.b.solution()"
   ]
  },
  {
   "cell_type": "markdown",
   "id": "301f34b4",
   "metadata": {
    "papermill": {
     "duration": 0.010883,
     "end_time": "2023-05-03T13:20:00.570943",
     "exception": false,
     "start_time": "2023-05-03T13:20:00.560060",
     "status": "completed"
    },
    "tags": []
   },
   "source": [
    "Run the next code cell to get the MAE for this approach."
   ]
  },
  {
   "cell_type": "code",
   "execution_count": 14,
   "id": "d562a8ab",
   "metadata": {
    "execution": {
     "iopub.execute_input": "2023-05-03T13:20:00.594507Z",
     "iopub.status.busy": "2023-05-03T13:20:00.594078Z",
     "iopub.status.idle": "2023-05-03T13:20:02.212597Z",
     "shell.execute_reply": "2023-05-03T13:20:02.210891Z"
    },
    "papermill": {
     "duration": 1.634321,
     "end_time": "2023-05-03T13:20:02.215906",
     "exception": false,
     "start_time": "2023-05-03T13:20:00.581585",
     "status": "completed"
    },
    "tags": []
   },
   "outputs": [
    {
     "name": "stdout",
     "output_type": "stream",
     "text": [
      "MAE from Approach 2 (Ordinal Encoding):\n",
      "17098.01649543379\n"
     ]
    }
   ],
   "source": [
    "print(\"MAE from Approach 2 (Ordinal Encoding):\") \n",
    "print(score_dataset(label_X_train, label_X_valid, y_train, y_valid))"
   ]
  },
  {
   "cell_type": "markdown",
   "id": "b66d8031",
   "metadata": {
    "papermill": {
     "duration": 0.010761,
     "end_time": "2023-05-03T13:20:02.238244",
     "exception": false,
     "start_time": "2023-05-03T13:20:02.227483",
     "status": "completed"
    },
    "tags": []
   },
   "source": [
    "So far, you've tried two different approaches to dealing with categorical variables.  And, you've seen that encoding categorical data yields better results than removing columns from the dataset.\n",
    "\n",
    "Soon, you'll try one-hot encoding.  Before then, there's one additional topic we need to cover.  Begin by running the next code cell without changes.  "
   ]
  },
  {
   "cell_type": "code",
   "execution_count": 15,
   "id": "88661249",
   "metadata": {
    "execution": {
     "iopub.execute_input": "2023-05-03T13:20:02.262034Z",
     "iopub.status.busy": "2023-05-03T13:20:02.261594Z",
     "iopub.status.idle": "2023-05-03T13:20:02.271713Z",
     "shell.execute_reply": "2023-05-03T13:20:02.270046Z"
    },
    "papermill": {
     "duration": 0.024684,
     "end_time": "2023-05-03T13:20:02.273873",
     "exception": false,
     "start_time": "2023-05-03T13:20:02.249189",
     "status": "completed"
    },
    "tags": []
   },
   "outputs": [
    {
     "name": "stdout",
     "output_type": "stream",
     "text": [
      "Help on class map in module builtins:\n",
      "\n",
      "class map(object)\n",
      " |  map(func, *iterables) --> map object\n",
      " |  \n",
      " |  Make an iterator that computes the function using arguments from\n",
      " |  each of the iterables.  Stops when the shortest iterable is exhausted.\n",
      " |  \n",
      " |  Methods defined here:\n",
      " |  \n",
      " |  __getattribute__(self, name, /)\n",
      " |      Return getattr(self, name).\n",
      " |  \n",
      " |  __iter__(self, /)\n",
      " |      Implement iter(self).\n",
      " |  \n",
      " |  __next__(self, /)\n",
      " |      Implement next(self).\n",
      " |  \n",
      " |  __reduce__(...)\n",
      " |      Return state information for pickling.\n",
      " |  \n",
      " |  ----------------------------------------------------------------------\n",
      " |  Static methods defined here:\n",
      " |  \n",
      " |  __new__(*args, **kwargs) from builtins.type\n",
      " |      Create and return a new object.  See help(type) for accurate signature.\n",
      "\n"
     ]
    }
   ],
   "source": [
    "help(map)"
   ]
  },
  {
   "cell_type": "code",
   "execution_count": 16,
   "id": "d013b337",
   "metadata": {
    "execution": {
     "iopub.execute_input": "2023-05-03T13:20:02.299119Z",
     "iopub.status.busy": "2023-05-03T13:20:02.298371Z",
     "iopub.status.idle": "2023-05-03T13:20:02.310562Z",
     "shell.execute_reply": "2023-05-03T13:20:02.309455Z"
    },
    "papermill": {
     "duration": 0.027221,
     "end_time": "2023-05-03T13:20:02.312823",
     "exception": false,
     "start_time": "2023-05-03T13:20:02.285602",
     "status": "completed"
    },
    "tags": []
   },
   "outputs": [
    {
     "data": {
      "text/plain": [
       "[('Street', 2),\n",
       " ('Utilities', 2),\n",
       " ('CentralAir', 2),\n",
       " ('LandSlope', 3),\n",
       " ('PavedDrive', 3),\n",
       " ('LotShape', 4),\n",
       " ('LandContour', 4),\n",
       " ('ExterQual', 4),\n",
       " ('KitchenQual', 4),\n",
       " ('MSZoning', 5),\n",
       " ('LotConfig', 5),\n",
       " ('BldgType', 5),\n",
       " ('ExterCond', 5),\n",
       " ('HeatingQC', 5),\n",
       " ('Condition2', 6),\n",
       " ('RoofStyle', 6),\n",
       " ('Foundation', 6),\n",
       " ('Heating', 6),\n",
       " ('Functional', 6),\n",
       " ('SaleCondition', 6),\n",
       " ('RoofMatl', 7),\n",
       " ('HouseStyle', 8),\n",
       " ('Condition1', 9),\n",
       " ('SaleType', 9),\n",
       " ('Exterior1st', 15),\n",
       " ('Exterior2nd', 16),\n",
       " ('Neighborhood', 25)]"
      ]
     },
     "execution_count": 16,
     "metadata": {},
     "output_type": "execute_result"
    }
   ],
   "source": [
    "# Get number of unique entries in each column with categorical data\n",
    "object_nunique = list(map(lambda col: X_train[col].nunique(), object_cols))\n",
    "d = dict(zip(object_cols, object_nunique))\n",
    "\n",
    "# Print number of unique entries by column, in ascending order\n",
    "sorted(d.items(), key=lambda x: x[1])"
   ]
  },
  {
   "cell_type": "markdown",
   "id": "b1c4879d",
   "metadata": {
    "papermill": {
     "duration": 0.010874,
     "end_time": "2023-05-03T13:20:02.334838",
     "exception": false,
     "start_time": "2023-05-03T13:20:02.323964",
     "status": "completed"
    },
    "tags": []
   },
   "source": [
    "# Step 3: Investigating cardinality\n",
    "\n",
    "### Part A\n",
    "\n",
    "The output above shows, for each column with categorical data, the number of unique values in the column.  For instance, the `'Street'` column in the training data has two unique values: `'Grvl'` and `'Pave'`, corresponding to a gravel road and a paved road, respectively.\n",
    "\n",
    "We refer to the number of unique entries of a categorical variable as the **cardinality** of that categorical variable.  For instance, the `'Street'` variable has cardinality 2.\n",
    "\n",
    "Use the output above to answer the questions below."
   ]
  },
  {
   "cell_type": "code",
   "execution_count": 17,
   "id": "521ea635",
   "metadata": {
    "execution": {
     "iopub.execute_input": "2023-05-03T13:20:02.359261Z",
     "iopub.status.busy": "2023-05-03T13:20:02.358874Z",
     "iopub.status.idle": "2023-05-03T13:20:02.368229Z",
     "shell.execute_reply": "2023-05-03T13:20:02.367050Z"
    },
    "papermill": {
     "duration": 0.024078,
     "end_time": "2023-05-03T13:20:02.370307",
     "exception": false,
     "start_time": "2023-05-03T13:20:02.346229",
     "status": "completed"
    },
    "tags": []
   },
   "outputs": [
    {
     "data": {
      "application/javascript": [
       "parent.postMessage({\"jupyterEvent\": \"custom.exercise_interaction\", \"data\": {\"outcomeType\": 1, \"valueTowardsCompletion\": 0.5, \"interactionType\": 1, \"questionType\": 1, \"questionId\": \"3.1_CardinalityA\", \"learnToolsVersion\": \"0.3.4\", \"failureMessage\": \"\", \"exceptionClass\": \"\", \"trace\": \"\"}}, \"*\")"
      ],
      "text/plain": [
       "<IPython.core.display.Javascript object>"
      ]
     },
     "metadata": {},
     "output_type": "display_data"
    },
    {
     "data": {
      "text/markdown": [
       "<span style=\"color:#33cc33\">Correct</span>"
      ],
      "text/plain": [
       "Correct"
      ]
     },
     "metadata": {},
     "output_type": "display_data"
    }
   ],
   "source": [
    "# Fill in the line below: How many categorical variables in the training data\n",
    "# have cardinality greater than 10?\n",
    "high_cardinality_numcols = 3\n",
    "\n",
    "# Fill in the line below: How many columns are needed to one-hot encode the \n",
    "# 'Neighborhood' variable in the training data?\n",
    "num_cols_neighborhood = 25\n",
    "\n",
    "# Check your answers\n",
    "step_3.a.check()"
   ]
  },
  {
   "cell_type": "code",
   "execution_count": 18,
   "id": "58be5c45",
   "metadata": {
    "execution": {
     "iopub.execute_input": "2023-05-03T13:20:02.395660Z",
     "iopub.status.busy": "2023-05-03T13:20:02.395021Z",
     "iopub.status.idle": "2023-05-03T13:20:02.399185Z",
     "shell.execute_reply": "2023-05-03T13:20:02.398271Z"
    },
    "papermill": {
     "duration": 0.019246,
     "end_time": "2023-05-03T13:20:02.401285",
     "exception": false,
     "start_time": "2023-05-03T13:20:02.382039",
     "status": "completed"
    },
    "tags": []
   },
   "outputs": [],
   "source": [
    "# Lines below will give you a hint or solution code\n",
    "#step_3.a.hint()\n",
    "#step_3.a.solution()"
   ]
  },
  {
   "cell_type": "markdown",
   "id": "88bc792c",
   "metadata": {
    "papermill": {
     "duration": 0.011027,
     "end_time": "2023-05-03T13:20:02.424028",
     "exception": false,
     "start_time": "2023-05-03T13:20:02.413001",
     "status": "completed"
    },
    "tags": []
   },
   "source": [
    "### Part B\n",
    "\n",
    "For large datasets with many rows, one-hot encoding can greatly expand the size of the dataset.  For this reason, we typically will only one-hot encode columns with relatively low cardinality.  Then, high cardinality columns can either be dropped from the dataset, or we can use ordinal encoding.\n",
    "\n",
    "As an example, consider a dataset with 10,000 rows, and containing one categorical column with 100 unique entries.  \n",
    "- If this column is replaced with the corresponding one-hot encoding, how many entries are added to the dataset?  \n",
    "- If we instead replace the column with the ordinal encoding, how many entries are added?  \n",
    "\n",
    "Use your answers to fill in the lines below."
   ]
  },
  {
   "cell_type": "code",
   "execution_count": 19,
   "id": "62afa87a",
   "metadata": {
    "execution": {
     "iopub.execute_input": "2023-05-03T13:20:02.449076Z",
     "iopub.status.busy": "2023-05-03T13:20:02.448636Z",
     "iopub.status.idle": "2023-05-03T13:20:02.456873Z",
     "shell.execute_reply": "2023-05-03T13:20:02.455923Z"
    },
    "papermill": {
     "duration": 0.024276,
     "end_time": "2023-05-03T13:20:02.459512",
     "exception": false,
     "start_time": "2023-05-03T13:20:02.435236",
     "status": "completed"
    },
    "tags": []
   },
   "outputs": [
    {
     "data": {
      "application/javascript": [
       "parent.postMessage({\"jupyterEvent\": \"custom.exercise_interaction\", \"data\": {\"outcomeType\": 1, \"valueTowardsCompletion\": 0.5, \"interactionType\": 1, \"questionType\": 1, \"questionId\": \"3.2_CardinalityB\", \"learnToolsVersion\": \"0.3.4\", \"failureMessage\": \"\", \"exceptionClass\": \"\", \"trace\": \"\"}}, \"*\")"
      ],
      "text/plain": [
       "<IPython.core.display.Javascript object>"
      ]
     },
     "metadata": {},
     "output_type": "display_data"
    },
    {
     "data": {
      "text/markdown": [
       "<span style=\"color:#33cc33\">Correct</span>"
      ],
      "text/plain": [
       "Correct"
      ]
     },
     "metadata": {},
     "output_type": "display_data"
    }
   ],
   "source": [
    "# Fill in the line below: How many entries are added to the dataset by \n",
    "# replacing the column with a one-hot encoding?\n",
    "OH_entries_added = 990000\n",
    "\n",
    "# Fill in the line below: How many entries are added to the dataset by\n",
    "# replacing the column with an ordinal encoding?\n",
    "label_entries_added = 0\n",
    "\n",
    "# Check your answers\n",
    "step_3.b.check()"
   ]
  },
  {
   "cell_type": "code",
   "execution_count": 20,
   "id": "8e566e44",
   "metadata": {
    "execution": {
     "iopub.execute_input": "2023-05-03T13:20:02.484852Z",
     "iopub.status.busy": "2023-05-03T13:20:02.484428Z",
     "iopub.status.idle": "2023-05-03T13:20:02.489563Z",
     "shell.execute_reply": "2023-05-03T13:20:02.488346Z"
    },
    "papermill": {
     "duration": 0.021132,
     "end_time": "2023-05-03T13:20:02.492511",
     "exception": false,
     "start_time": "2023-05-03T13:20:02.471379",
     "status": "completed"
    },
    "tags": []
   },
   "outputs": [],
   "source": [
    "# Lines below will give you a hint or solution code\n",
    "#step_3.b.hint()\n",
    "#step_3.b.solution()"
   ]
  },
  {
   "cell_type": "markdown",
   "id": "018c76b7",
   "metadata": {
    "papermill": {
     "duration": 0.011483,
     "end_time": "2023-05-03T13:20:02.516326",
     "exception": false,
     "start_time": "2023-05-03T13:20:02.504843",
     "status": "completed"
    },
    "tags": []
   },
   "source": [
    "Next, you'll experiment with one-hot encoding.  But, instead of encoding all of the categorical variables in the dataset, you'll only create a one-hot encoding for columns with cardinality less than 10.\n",
    "\n",
    "Run the code cell below without changes to set `low_cardinality_cols` to a Python list containing the columns that will be one-hot encoded.  Likewise, `high_cardinality_cols` contains a list of categorical columns that will be dropped from the dataset."
   ]
  },
  {
   "cell_type": "code",
   "execution_count": 21,
   "id": "b333ffe4",
   "metadata": {
    "execution": {
     "iopub.execute_input": "2023-05-03T13:20:02.541811Z",
     "iopub.status.busy": "2023-05-03T13:20:02.541051Z",
     "iopub.status.idle": "2023-05-03T13:20:02.552310Z",
     "shell.execute_reply": "2023-05-03T13:20:02.550722Z"
    },
    "papermill": {
     "duration": 0.02706,
     "end_time": "2023-05-03T13:20:02.554923",
     "exception": false,
     "start_time": "2023-05-03T13:20:02.527863",
     "status": "completed"
    },
    "tags": []
   },
   "outputs": [
    {
     "name": "stdout",
     "output_type": "stream",
     "text": [
      "Categorical columns that will be one-hot encoded: ['MSZoning', 'Street', 'LotShape', 'LandContour', 'Utilities', 'LotConfig', 'LandSlope', 'Condition1', 'Condition2', 'BldgType', 'HouseStyle', 'RoofStyle', 'RoofMatl', 'ExterQual', 'ExterCond', 'Foundation', 'Heating', 'HeatingQC', 'CentralAir', 'KitchenQual', 'Functional', 'PavedDrive', 'SaleType', 'SaleCondition']\n",
      "\n",
      "Categorical columns that will be dropped from the dataset: ['Exterior2nd', 'Neighborhood', 'Exterior1st']\n"
     ]
    }
   ],
   "source": [
    "# Columns that will be one-hot encoded\n",
    "low_cardinality_cols = [col for col in object_cols if X_train[col].nunique() < 10]\n",
    "\n",
    "# Columns that will be dropped from the dataset\n",
    "high_cardinality_cols = list(set(object_cols)-set(low_cardinality_cols))\n",
    "\n",
    "print('Categorical columns that will be one-hot encoded:', low_cardinality_cols)\n",
    "print('\\nCategorical columns that will be dropped from the dataset:', high_cardinality_cols)"
   ]
  },
  {
   "cell_type": "markdown",
   "id": "899ebb97",
   "metadata": {
    "papermill": {
     "duration": 0.011229,
     "end_time": "2023-05-03T13:20:02.577930",
     "exception": false,
     "start_time": "2023-05-03T13:20:02.566701",
     "status": "completed"
    },
    "tags": []
   },
   "source": [
    "# Step 4: One-hot encoding\n",
    "\n",
    "Use the next code cell to one-hot encode the data in `X_train` and `X_valid`.  Set the preprocessed DataFrames to `OH_X_train` and `OH_X_valid`, respectively.  \n",
    "- The full list of categorical columns in the dataset can be found in the Python list `object_cols`.\n",
    "- You should only one-hot encode the categorical columns in `low_cardinality_cols`.  All other categorical columns should be dropped from the dataset. "
   ]
  },
  {
   "cell_type": "code",
   "execution_count": 22,
   "id": "aa0b0274",
   "metadata": {
    "execution": {
     "iopub.execute_input": "2023-05-03T13:20:02.603042Z",
     "iopub.status.busy": "2023-05-03T13:20:02.602566Z",
     "iopub.status.idle": "2023-05-03T13:20:02.656081Z",
     "shell.execute_reply": "2023-05-03T13:20:02.654802Z"
    },
    "papermill": {
     "duration": 0.069052,
     "end_time": "2023-05-03T13:20:02.658550",
     "exception": false,
     "start_time": "2023-05-03T13:20:02.589498",
     "status": "completed"
    },
    "tags": []
   },
   "outputs": [
    {
     "name": "stderr",
     "output_type": "stream",
     "text": [
      "/opt/conda/lib/python3.10/site-packages/sklearn/preprocessing/_encoders.py:868: FutureWarning: `sparse` was renamed to `sparse_output` in version 1.2 and will be removed in 1.4. `sparse_output` is ignored unless you leave `sparse` to its default value.\n",
      "  warnings.warn(\n"
     ]
    },
    {
     "data": {
      "application/javascript": [
       "parent.postMessage({\"jupyterEvent\": \"custom.exercise_interaction\", \"data\": {\"outcomeType\": 1, \"valueTowardsCompletion\": 0.5, \"interactionType\": 1, \"questionType\": 2, \"questionId\": \"4_OneHot\", \"learnToolsVersion\": \"0.3.4\", \"failureMessage\": \"\", \"exceptionClass\": \"\", \"trace\": \"\"}}, \"*\")"
      ],
      "text/plain": [
       "<IPython.core.display.Javascript object>"
      ]
     },
     "metadata": {},
     "output_type": "display_data"
    },
    {
     "data": {
      "text/markdown": [
       "<span style=\"color:#33cc33\">Correct</span>"
      ],
      "text/plain": [
       "Correct"
      ]
     },
     "metadata": {},
     "output_type": "display_data"
    }
   ],
   "source": [
    "from sklearn.preprocessing import OneHotEncoder\n",
    "\n",
    "# Use as many lines of code as you need!\n",
    "\n",
    "OH_encoder = OneHotEncoder(handle_unknown = 'ignore', sparse = False)\n",
    "\n",
    "# Encoding low cardinality cols\n",
    "\n",
    "X_train_OH_cat = pd.DataFrame(OH_encoder.fit_transform(X_train[low_cardinality_cols]))\n",
    "X_valid_OH_cat = pd.DataFrame(OH_encoder.transform(X_valid[low_cardinality_cols]))\n",
    "\n",
    "# Reassigning the indexes after OH encoding\n",
    "\n",
    "X_train_OH_cat.index = X_train.index\n",
    "X_valid_OH_cat.index = X_valid.index\n",
    "\n",
    "# Isolating the numerical columns only\n",
    "\n",
    "X_train_num = X_train.select_dtypes(exclude = 'object')\n",
    "X_valid_num = X_valid.select_dtypes(exclude = 'object')\n",
    "\n",
    "\n",
    "\n",
    "OH_X_train = pd.concat([X_train_OH_cat, X_train_num], axis = 1)\n",
    "OH_X_valid = pd.concat([X_valid_OH_cat, X_valid_num], axis = 1)\n",
    "\n",
    "OH_X_train.columns = OH_X_train.columns.astype('str')\n",
    "OH_X_valid.columns = OH_X_valid.columns.astype('str')\n",
    "\n",
    "# Check your answer\n",
    "step_4.check()"
   ]
  },
  {
   "cell_type": "code",
   "execution_count": 23,
   "id": "b3522a4b",
   "metadata": {
    "execution": {
     "iopub.execute_input": "2023-05-03T13:20:02.684829Z",
     "iopub.status.busy": "2023-05-03T13:20:02.684380Z",
     "iopub.status.idle": "2023-05-03T13:20:02.689766Z",
     "shell.execute_reply": "2023-05-03T13:20:02.688445Z"
    },
    "papermill": {
     "duration": 0.021449,
     "end_time": "2023-05-03T13:20:02.692103",
     "exception": false,
     "start_time": "2023-05-03T13:20:02.670654",
     "status": "completed"
    },
    "tags": []
   },
   "outputs": [],
   "source": [
    "# Lines below will give you a hint or solution code\n",
    "#step_4.hint()\n",
    "#step_4.solution()"
   ]
  },
  {
   "cell_type": "markdown",
   "id": "e15eea54",
   "metadata": {
    "papermill": {
     "duration": 0.011894,
     "end_time": "2023-05-03T13:20:02.716185",
     "exception": false,
     "start_time": "2023-05-03T13:20:02.704291",
     "status": "completed"
    },
    "tags": []
   },
   "source": [
    "Run the next code cell to get the MAE for this approach."
   ]
  },
  {
   "cell_type": "code",
   "execution_count": 24,
   "id": "98836769",
   "metadata": {
    "execution": {
     "iopub.execute_input": "2023-05-03T13:20:02.742456Z",
     "iopub.status.busy": "2023-05-03T13:20:02.742035Z",
     "iopub.status.idle": "2023-05-03T13:20:04.784230Z",
     "shell.execute_reply": "2023-05-03T13:20:04.782743Z"
    },
    "papermill": {
     "duration": 2.05856,
     "end_time": "2023-05-03T13:20:04.786751",
     "exception": false,
     "start_time": "2023-05-03T13:20:02.728191",
     "status": "completed"
    },
    "tags": []
   },
   "outputs": [
    {
     "name": "stdout",
     "output_type": "stream",
     "text": [
      "MAE from Approach 3 (One-Hot Encoding):\n",
      "17537.55444063927\n"
     ]
    }
   ],
   "source": [
    "print(\"MAE from Approach 3 (One-Hot Encoding):\") \n",
    "print(score_dataset(OH_X_train, OH_X_valid, y_train, y_valid))"
   ]
  },
  {
   "cell_type": "markdown",
   "id": "b5322a9d",
   "metadata": {
    "papermill": {
     "duration": 0.012082,
     "end_time": "2023-05-03T13:20:04.811067",
     "exception": false,
     "start_time": "2023-05-03T13:20:04.798985",
     "status": "completed"
    },
    "tags": []
   },
   "source": [
    "# Generate test predictions and submit your results\n",
    "\n",
    "After you complete Step 4, if you'd like to use what you've learned to submit your results to the leaderboard, you'll need to preprocess the test data before generating predictions.\n",
    "\n",
    "**This step is completely optional, and you do not need to submit results to the leaderboard to successfully complete the exercise.**\n",
    "\n",
    "Check out the previous exercise if you need help with remembering how to [join the competition](https://www.kaggle.com/c/home-data-for-ml-course) or save your results to CSV.  Once you have generated a file with your results, follow the instructions below:\n",
    "1. Begin by clicking on the **Save Version** button in the top right corner of the window.  This will generate a pop-up window.  \n",
    "2. Ensure that the **Save and Run All** option is selected, and then click on the **Save** button.\n",
    "3. This generates a window in the bottom left corner of the notebook.  After it has finished running, click on the number to the right of the **Save Version** button.  This pulls up a list of versions on the right of the screen.  Click on the ellipsis **(...)** to the right of the most recent version, and select **Open in Viewer**.  This brings you into view mode of the same page. You will need to scroll down to get back to these instructions.\n",
    "4. Click on the **Data** tab near the top of the screen.  Then, click on the file you would like to submit, and click on the **Submit** button to submit your results to the leaderboard.\n",
    "\n",
    "You have now successfully submitted to the competition!\n",
    "\n",
    "If you want to keep working to improve your performance, select the **Edit** button in the top right of the screen. Then you can change your code and repeat the process. There's a lot of room to improve, and you will climb up the leaderboard as you work.\n"
   ]
  },
  {
   "cell_type": "code",
   "execution_count": 25,
   "id": "d98eac99",
   "metadata": {
    "execution": {
     "iopub.execute_input": "2023-05-03T13:20:04.837102Z",
     "iopub.status.busy": "2023-05-03T13:20:04.836665Z",
     "iopub.status.idle": "2023-05-03T13:20:04.840828Z",
     "shell.execute_reply": "2023-05-03T13:20:04.840161Z"
    },
    "papermill": {
     "duration": 0.019901,
     "end_time": "2023-05-03T13:20:04.842866",
     "exception": false,
     "start_time": "2023-05-03T13:20:04.822965",
     "status": "completed"
    },
    "tags": []
   },
   "outputs": [],
   "source": [
    "# (Optional) Your code here"
   ]
  },
  {
   "cell_type": "markdown",
   "id": "3ac75044",
   "metadata": {
    "papermill": {
     "duration": 0.012602,
     "end_time": "2023-05-03T13:20:04.867914",
     "exception": false,
     "start_time": "2023-05-03T13:20:04.855312",
     "status": "completed"
    },
    "tags": []
   },
   "source": [
    "# Keep going\n",
    "\n",
    "With missing value handling and categorical encoding, your modeling process is getting complex. This complexity gets worse when you want to save your model to use in the future. The key to managing this complexity is something called **pipelines**. \n",
    "\n",
    "**[Learn to use pipelines](https://www.kaggle.com/alexisbcook/pipelines)** to preprocess datasets with categorical variables, missing values and any other messiness your data throws at you."
   ]
  },
  {
   "cell_type": "markdown",
   "id": "d77b1437",
   "metadata": {
    "papermill": {
     "duration": 0.012224,
     "end_time": "2023-05-03T13:20:04.892463",
     "exception": false,
     "start_time": "2023-05-03T13:20:04.880239",
     "status": "completed"
    },
    "tags": []
   },
   "source": [
    "---\n",
    "\n",
    "\n",
    "\n",
    "\n",
    "*Have questions or comments? Visit the [course discussion forum](https://www.kaggle.com/learn/intermediate-machine-learning/discussion) to chat with other learners.*"
   ]
  }
 ],
 "metadata": {
  "kernelspec": {
   "display_name": "Python 3",
   "language": "python",
   "name": "python3"
  },
  "language_info": {
   "codemirror_mode": {
    "name": "ipython",
    "version": 3
   },
   "file_extension": ".py",
   "mimetype": "text/x-python",
   "name": "python",
   "nbconvert_exporter": "python",
   "pygments_lexer": "ipython3",
   "version": "3.10.10"
  },
  "papermill": {
   "default_parameters": {},
   "duration": 20.344566,
   "end_time": "2023-05-03T13:20:06.128957",
   "environment_variables": {},
   "exception": null,
   "input_path": "__notebook__.ipynb",
   "output_path": "__notebook__.ipynb",
   "parameters": {},
   "start_time": "2023-05-03T13:19:45.784391",
   "version": "2.4.0"
  }
 },
 "nbformat": 4,
 "nbformat_minor": 5
}
