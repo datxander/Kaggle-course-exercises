{
 "cells": [
  {
   "cell_type": "markdown",
   "id": "ab56ae5a",
   "metadata": {
    "papermill": {
     "duration": 0.005274,
     "end_time": "2023-05-06T10:28:06.500533",
     "exception": false,
     "start_time": "2023-05-06T10:28:06.495259",
     "status": "completed"
    },
    "tags": []
   },
   "source": [
    "**This notebook is an exercise in the [Intermediate Machine Learning](https://www.kaggle.com/learn/intermediate-machine-learning) course.  You can reference the tutorial at [this link](https://www.kaggle.com/alexisbcook/xgboost).**\n",
    "\n",
    "---\n"
   ]
  },
  {
   "cell_type": "markdown",
   "id": "b44fe618",
   "metadata": {
    "papermill": {
     "duration": 0.004381,
     "end_time": "2023-05-06T10:28:06.509775",
     "exception": false,
     "start_time": "2023-05-06T10:28:06.505394",
     "status": "completed"
    },
    "tags": []
   },
   "source": [
    "In this exercise, you will use your new knowledge to train a model with **gradient boosting**.\n",
    "\n",
    "# Setup\n",
    "\n",
    "The questions below will give you feedback on your work. Run the following cell to set up the feedback system."
   ]
  },
  {
   "cell_type": "code",
   "execution_count": 1,
   "id": "eff6e216",
   "metadata": {
    "execution": {
     "iopub.execute_input": "2023-05-06T10:28:06.520823Z",
     "iopub.status.busy": "2023-05-06T10:28:06.520476Z",
     "iopub.status.idle": "2023-05-06T10:28:08.919644Z",
     "shell.execute_reply": "2023-05-06T10:28:08.918519Z"
    },
    "papermill": {
     "duration": 2.407994,
     "end_time": "2023-05-06T10:28:08.922405",
     "exception": false,
     "start_time": "2023-05-06T10:28:06.514411",
     "status": "completed"
    },
    "tags": []
   },
   "outputs": [
    {
     "name": "stderr",
     "output_type": "stream",
     "text": [
      "/opt/conda/lib/python3.10/site-packages/scipy/__init__.py:146: UserWarning: A NumPy version >=1.16.5 and <1.23.0 is required for this version of SciPy (detected version 1.23.5\n",
      "  warnings.warn(f\"A NumPy version >={np_minversion} and <{np_maxversion}\"\n"
     ]
    },
    {
     "name": "stdout",
     "output_type": "stream",
     "text": [
      "Setup Complete\n"
     ]
    }
   ],
   "source": [
    "# Set up code checking\n",
    "import os\n",
    "if not os.path.exists(\"../input/train.csv\"):\n",
    "    os.symlink(\"../input/home-data-for-ml-course/train.csv\", \"../input/train.csv\")  \n",
    "    os.symlink(\"../input/home-data-for-ml-course/test.csv\", \"../input/test.csv\") \n",
    "from learntools.core import binder\n",
    "binder.bind(globals())\n",
    "from learntools.ml_intermediate.ex6 import *\n",
    "print(\"Setup Complete\")"
   ]
  },
  {
   "cell_type": "markdown",
   "id": "acb00daa",
   "metadata": {
    "papermill": {
     "duration": 0.005443,
     "end_time": "2023-05-06T10:28:08.933820",
     "exception": false,
     "start_time": "2023-05-06T10:28:08.928377",
     "status": "completed"
    },
    "tags": []
   },
   "source": [
    "You will work with the [Housing Prices Competition for Kaggle Learn Users](https://www.kaggle.com/c/home-data-for-ml-course) dataset from the previous exercise. \n",
    "\n",
    "![Ames Housing dataset image](https://storage.googleapis.com/kaggle-media/learn/images/lTJVG4e.png)\n",
    "\n",
    "Run the next code cell without changes to load the training and validation sets in `X_train`, `X_valid`, `y_train`, and `y_valid`.  The test set is loaded in `X_test`."
   ]
  },
  {
   "cell_type": "code",
   "execution_count": 2,
   "id": "2f73510f",
   "metadata": {
    "execution": {
     "iopub.execute_input": "2023-05-06T10:28:08.948371Z",
     "iopub.status.busy": "2023-05-06T10:28:08.947144Z",
     "iopub.status.idle": "2023-05-06T10:28:09.134359Z",
     "shell.execute_reply": "2023-05-06T10:28:09.132951Z"
    },
    "papermill": {
     "duration": 0.197489,
     "end_time": "2023-05-06T10:28:09.137255",
     "exception": false,
     "start_time": "2023-05-06T10:28:08.939766",
     "status": "completed"
    },
    "tags": []
   },
   "outputs": [],
   "source": [
    "import pandas as pd\n",
    "from sklearn.model_selection import train_test_split\n",
    "\n",
    "# Read the data\n",
    "X = pd.read_csv('../input/train.csv', index_col='Id')\n",
    "X_test_full = pd.read_csv('../input/test.csv', index_col='Id')\n",
    "\n",
    "# Remove rows with missing target, separate target from predictors\n",
    "X.dropna(axis=0, subset=['SalePrice'], inplace=True)\n",
    "y = X.SalePrice              \n",
    "X.drop(['SalePrice'], axis=1, inplace=True)\n",
    "\n",
    "# Break off validation set from training data\n",
    "X_train_full, X_valid_full, y_train, y_valid = train_test_split(X, y, train_size=0.8, test_size=0.2,\n",
    "                                                                random_state=0)\n",
    "\n",
    "# \"Cardinality\" means the number of unique values in a column\n",
    "# Select categorical columns with relatively low cardinality (convenient but arbitrary)\n",
    "low_cardinality_cols = [cname for cname in X_train_full.columns if X_train_full[cname].nunique() < 10 and \n",
    "                        X_train_full[cname].dtype == \"object\"]\n",
    "\n",
    "# Select numeric columns\n",
    "numeric_cols = [cname for cname in X_train_full.columns if X_train_full[cname].dtype in ['int64', 'float64']]\n",
    "\n",
    "# Keep selected columns only\n",
    "my_cols = low_cardinality_cols + numeric_cols\n",
    "X_train = X_train_full[my_cols].copy()\n",
    "X_valid = X_valid_full[my_cols].copy()\n",
    "X_test = X_test_full[my_cols].copy()\n",
    "\n",
    "# One-hot encode the data (to shorten the code, we use pandas)\n",
    "X_train = pd.get_dummies(X_train)\n",
    "X_valid = pd.get_dummies(X_valid)\n",
    "X_test = pd.get_dummies(X_test)\n",
    "X_train, X_valid = X_train.align(X_valid, join='left', axis=1)\n",
    "X_train, X_test = X_train.align(X_test, join='left', axis=1)"
   ]
  },
  {
   "cell_type": "markdown",
   "id": "bc067062",
   "metadata": {
    "papermill": {
     "duration": 0.005184,
     "end_time": "2023-05-06T10:28:09.148307",
     "exception": false,
     "start_time": "2023-05-06T10:28:09.143123",
     "status": "completed"
    },
    "tags": []
   },
   "source": [
    "# Step 1: Build model\n",
    "\n",
    "### Part A\n",
    "\n",
    "In this step, you'll build and train your first model with gradient boosting.\n",
    "\n",
    "- Begin by setting `my_model_1` to an XGBoost model.  Use the [XGBRegressor](https://xgboost.readthedocs.io/en/latest/python/python_api.html#xgboost.XGBRegressor) class, and set the random seed to 0 (`random_state=0`).  **Leave all other parameters as default.**\n",
    "- Then, fit the model to the training data in `X_train` and `y_train`."
   ]
  },
  {
   "cell_type": "code",
   "execution_count": 3,
   "id": "cf442f25",
   "metadata": {
    "execution": {
     "iopub.execute_input": "2023-05-06T10:28:09.161353Z",
     "iopub.status.busy": "2023-05-06T10:28:09.160915Z",
     "iopub.status.idle": "2023-05-06T10:28:10.026676Z",
     "shell.execute_reply": "2023-05-06T10:28:10.025724Z"
    },
    "papermill": {
     "duration": 0.875894,
     "end_time": "2023-05-06T10:28:10.029615",
     "exception": false,
     "start_time": "2023-05-06T10:28:09.153721",
     "status": "completed"
    },
    "tags": []
   },
   "outputs": [
    {
     "data": {
      "application/javascript": [
       "parent.postMessage({\"jupyterEvent\": \"custom.exercise_interaction\", \"data\": {\"outcomeType\": 1, \"valueTowardsCompletion\": 0.5, \"interactionType\": 1, \"questionType\": 2, \"questionId\": \"1.1_Model1A\", \"learnToolsVersion\": \"0.3.4\", \"failureMessage\": \"\", \"exceptionClass\": \"\", \"trace\": \"\"}}, \"*\")"
      ],
      "text/plain": [
       "<IPython.core.display.Javascript object>"
      ]
     },
     "metadata": {},
     "output_type": "display_data"
    },
    {
     "data": {
      "text/markdown": [
       "<span style=\"color:#33cc33\">Correct</span>"
      ],
      "text/plain": [
       "Correct"
      ]
     },
     "metadata": {},
     "output_type": "display_data"
    }
   ],
   "source": [
    "from xgboost import XGBRegressor\n",
    "\n",
    "# Define the model\n",
    "my_model_1 = XGBRegressor(random_state=0) # Your code here\n",
    "\n",
    "# Fit the model\n",
    "my_model_1.fit(X_train, y_train) # Your code here\n",
    "\n",
    "# Check your answer\n",
    "step_1.a.check()"
   ]
  },
  {
   "cell_type": "code",
   "execution_count": 4,
   "id": "e966b463",
   "metadata": {
    "execution": {
     "iopub.execute_input": "2023-05-06T10:28:10.043160Z",
     "iopub.status.busy": "2023-05-06T10:28:10.042735Z",
     "iopub.status.idle": "2023-05-06T10:28:10.046719Z",
     "shell.execute_reply": "2023-05-06T10:28:10.045909Z"
    },
    "papermill": {
     "duration": 0.013413,
     "end_time": "2023-05-06T10:28:10.048775",
     "exception": false,
     "start_time": "2023-05-06T10:28:10.035362",
     "status": "completed"
    },
    "tags": []
   },
   "outputs": [],
   "source": [
    "# Lines below will give you a hint or solution code\n",
    "#step_1.a.hint()\n",
    "#step_1.a.solution()"
   ]
  },
  {
   "cell_type": "markdown",
   "id": "fa2c017e",
   "metadata": {
    "papermill": {
     "duration": 0.005382,
     "end_time": "2023-05-06T10:28:10.060045",
     "exception": false,
     "start_time": "2023-05-06T10:28:10.054663",
     "status": "completed"
    },
    "tags": []
   },
   "source": [
    "### Part B\n",
    "\n",
    "Set `predictions_1` to the model's predictions for the validation data.  Recall that the validation features are stored in `X_valid`."
   ]
  },
  {
   "cell_type": "code",
   "execution_count": 5,
   "id": "27ca4f12",
   "metadata": {
    "execution": {
     "iopub.execute_input": "2023-05-06T10:28:10.073628Z",
     "iopub.status.busy": "2023-05-06T10:28:10.072812Z",
     "iopub.status.idle": "2023-05-06T10:28:10.097377Z",
     "shell.execute_reply": "2023-05-06T10:28:10.096365Z"
    },
    "papermill": {
     "duration": 0.034536,
     "end_time": "2023-05-06T10:28:10.100203",
     "exception": false,
     "start_time": "2023-05-06T10:28:10.065667",
     "status": "completed"
    },
    "tags": []
   },
   "outputs": [
    {
     "data": {
      "application/javascript": [
       "parent.postMessage({\"jupyterEvent\": \"custom.exercise_interaction\", \"data\": {\"outcomeType\": 1, \"valueTowardsCompletion\": 0.5, \"interactionType\": 1, \"questionType\": 2, \"questionId\": \"1.2_Model1B\", \"learnToolsVersion\": \"0.3.4\", \"failureMessage\": \"\", \"exceptionClass\": \"\", \"trace\": \"\"}}, \"*\")"
      ],
      "text/plain": [
       "<IPython.core.display.Javascript object>"
      ]
     },
     "metadata": {},
     "output_type": "display_data"
    },
    {
     "data": {
      "text/markdown": [
       "<span style=\"color:#33cc33\">Correct</span>"
      ],
      "text/plain": [
       "Correct"
      ]
     },
     "metadata": {},
     "output_type": "display_data"
    }
   ],
   "source": [
    "from sklearn.metrics import mean_absolute_error\n",
    "\n",
    "# Get predictions\n",
    "predictions_1 = my_model_1.predict(X_valid) # Your code here\n",
    "\n",
    "# Check your answer\n",
    "step_1.b.check()"
   ]
  },
  {
   "cell_type": "code",
   "execution_count": 6,
   "id": "91f8d50e",
   "metadata": {
    "execution": {
     "iopub.execute_input": "2023-05-06T10:28:10.114401Z",
     "iopub.status.busy": "2023-05-06T10:28:10.114027Z",
     "iopub.status.idle": "2023-05-06T10:28:10.118470Z",
     "shell.execute_reply": "2023-05-06T10:28:10.117202Z"
    },
    "papermill": {
     "duration": 0.013873,
     "end_time": "2023-05-06T10:28:10.120793",
     "exception": false,
     "start_time": "2023-05-06T10:28:10.106920",
     "status": "completed"
    },
    "tags": []
   },
   "outputs": [],
   "source": [
    "# Lines below will give you a hint or solution code\n",
    "#step_1.b.hint()\n",
    "#step_1.b.solution()"
   ]
  },
  {
   "cell_type": "markdown",
   "id": "4a334c20",
   "metadata": {
    "papermill": {
     "duration": 0.005624,
     "end_time": "2023-05-06T10:28:10.132431",
     "exception": false,
     "start_time": "2023-05-06T10:28:10.126807",
     "status": "completed"
    },
    "tags": []
   },
   "source": [
    "### Part C\n",
    "\n",
    "Finally, use the `mean_absolute_error()` function to calculate the mean absolute error (MAE) corresponding to the predictions for the validation set.  Recall that the labels for the validation data are stored in `y_valid`."
   ]
  },
  {
   "cell_type": "code",
   "execution_count": 7,
   "id": "538d7266",
   "metadata": {
    "execution": {
     "iopub.execute_input": "2023-05-06T10:28:10.146802Z",
     "iopub.status.busy": "2023-05-06T10:28:10.145766Z",
     "iopub.status.idle": "2023-05-06T10:28:10.153396Z",
     "shell.execute_reply": "2023-05-06T10:28:10.151946Z"
    },
    "papermill": {
     "duration": 0.017569,
     "end_time": "2023-05-06T10:28:10.155939",
     "exception": false,
     "start_time": "2023-05-06T10:28:10.138370",
     "status": "completed"
    },
    "tags": []
   },
   "outputs": [
    {
     "name": "stdout",
     "output_type": "stream",
     "text": [
      "Mean Absolute Error: 17662.736729452055\n"
     ]
    }
   ],
   "source": [
    "mae_1 = mean_absolute_error(y_valid, predictions_1)\n",
    "\n",
    "print('Mean Absolute Error:', mae_1)"
   ]
  },
  {
   "cell_type": "code",
   "execution_count": 8,
   "id": "07f0894c",
   "metadata": {
    "execution": {
     "iopub.execute_input": "2023-05-06T10:28:10.169959Z",
     "iopub.status.busy": "2023-05-06T10:28:10.169509Z",
     "iopub.status.idle": "2023-05-06T10:28:10.179692Z",
     "shell.execute_reply": "2023-05-06T10:28:10.178442Z"
    },
    "papermill": {
     "duration": 0.019986,
     "end_time": "2023-05-06T10:28:10.182001",
     "exception": false,
     "start_time": "2023-05-06T10:28:10.162015",
     "status": "completed"
    },
    "tags": []
   },
   "outputs": [
    {
     "data": {
      "application/javascript": [
       "parent.postMessage({\"jupyterEvent\": \"custom.exercise_interaction\", \"data\": {\"outcomeType\": 1, \"valueTowardsCompletion\": 0.5, \"interactionType\": 1, \"questionType\": 2, \"questionId\": \"1.3_Model1C\", \"learnToolsVersion\": \"0.3.4\", \"failureMessage\": \"\", \"exceptionClass\": \"\", \"trace\": \"\"}}, \"*\")"
      ],
      "text/plain": [
       "<IPython.core.display.Javascript object>"
      ]
     },
     "metadata": {},
     "output_type": "display_data"
    },
    {
     "data": {
      "text/markdown": [
       "<span style=\"color:#33cc33\">Correct</span>"
      ],
      "text/plain": [
       "Correct"
      ]
     },
     "metadata": {},
     "output_type": "display_data"
    }
   ],
   "source": [
    "step_1.c.check()"
   ]
  },
  {
   "cell_type": "markdown",
   "id": "7eac0374",
   "metadata": {
    "papermill": {
     "duration": 0.005942,
     "end_time": "2023-05-06T10:28:10.194393",
     "exception": false,
     "start_time": "2023-05-06T10:28:10.188451",
     "status": "completed"
    },
    "tags": []
   },
   "source": [
    "# Calculate MAE\n",
    "mae_1 = ____ # Your code here\n",
    "\n",
    "# Uncomment to print MAE\n",
    "# print(\"Mean Absolute Error:\" , mae_1)\n",
    "\n",
    "# Check your answer\n",
    "step_1.c.check()"
   ]
  },
  {
   "cell_type": "code",
   "execution_count": 9,
   "id": "a4721f38",
   "metadata": {
    "execution": {
     "iopub.execute_input": "2023-05-06T10:28:10.209544Z",
     "iopub.status.busy": "2023-05-06T10:28:10.209068Z",
     "iopub.status.idle": "2023-05-06T10:28:10.214383Z",
     "shell.execute_reply": "2023-05-06T10:28:10.213123Z"
    },
    "papermill": {
     "duration": 0.015436,
     "end_time": "2023-05-06T10:28:10.216628",
     "exception": false,
     "start_time": "2023-05-06T10:28:10.201192",
     "status": "completed"
    },
    "tags": []
   },
   "outputs": [],
   "source": [
    "# Lines below will give you a hint or solution code\n",
    "#step_1.c.hint()\n",
    "#step_1.c.solution()"
   ]
  },
  {
   "cell_type": "markdown",
   "id": "4faee13c",
   "metadata": {
    "papermill": {
     "duration": 0.005988,
     "end_time": "2023-05-06T10:28:10.229178",
     "exception": false,
     "start_time": "2023-05-06T10:28:10.223190",
     "status": "completed"
    },
    "tags": []
   },
   "source": [
    "# Step 2: Improve the model\n",
    "\n",
    "Now that you've trained a default model as baseline, it's time to tinker with the parameters, to see if you can get better performance!\n",
    "- Begin by setting `my_model_2` to an XGBoost model, using the [XGBRegressor](https://xgboost.readthedocs.io/en/latest/python/python_api.html#xgboost.XGBRegressor) class.  Use what you learned in the previous tutorial to figure out how to change the default parameters (like `n_estimators` and `learning_rate`) to get better results.\n",
    "- Then, fit the model to the training data in `X_train` and `y_train`.\n",
    "- Set `predictions_2` to the model's predictions for the validation data.  Recall that the validation features are stored in `X_valid`.\n",
    "- Finally, use the `mean_absolute_error()` function to calculate the mean absolute error (MAE) corresponding to the predictions on the validation set.  Recall that the labels for the validation data are stored in `y_valid`.\n",
    "\n",
    "In order for this step to be marked correct, your model in `my_model_2` must attain lower MAE than the model in `my_model_1`. "
   ]
  },
  {
   "cell_type": "code",
   "execution_count": 10,
   "id": "023d15dd",
   "metadata": {
    "execution": {
     "iopub.execute_input": "2023-05-06T10:28:10.243785Z",
     "iopub.status.busy": "2023-05-06T10:28:10.243333Z",
     "iopub.status.idle": "2023-05-06T10:28:11.126179Z",
     "shell.execute_reply": "2023-05-06T10:28:11.124986Z"
    },
    "papermill": {
     "duration": 0.892838,
     "end_time": "2023-05-06T10:28:11.128269",
     "exception": false,
     "start_time": "2023-05-06T10:28:10.235431",
     "status": "completed"
    },
    "tags": []
   },
   "outputs": [
    {
     "name": "stdout",
     "output_type": "stream",
     "text": [
      "Mean Absolute Error: 17213.82253317637\n"
     ]
    },
    {
     "data": {
      "application/javascript": [
       "parent.postMessage({\"jupyterEvent\": \"custom.exercise_interaction\", \"data\": {\"outcomeType\": 1, \"valueTowardsCompletion\": 0.5, \"interactionType\": 1, \"questionType\": 2, \"questionId\": \"2_Model2\", \"learnToolsVersion\": \"0.3.4\", \"failureMessage\": \"\", \"exceptionClass\": \"\", \"trace\": \"\"}}, \"*\")"
      ],
      "text/plain": [
       "<IPython.core.display.Javascript object>"
      ]
     },
     "metadata": {},
     "output_type": "display_data"
    },
    {
     "data": {
      "text/markdown": [
       "<span style=\"color:#33cc33\">Correct</span>"
      ],
      "text/plain": [
       "Correct"
      ]
     },
     "metadata": {},
     "output_type": "display_data"
    }
   ],
   "source": [
    "# Define the model\n",
    "my_model_2 = XGBRegressor(n_estimators = 100, learning_rate = 0.05, random_state = 0) # Your code here\n",
    "\n",
    "# Fit the model\n",
    "my_model_2.fit(X_train, y_train) # Your code here\n",
    "\n",
    "# Get predictions\n",
    "predictions_2 = my_model_2.predict(X_valid) # Your code here\n",
    "\n",
    "# Calculate MAE\n",
    "mae_2 = mean_absolute_error(y_valid, predictions_2) # Your code here\n",
    "\n",
    "# Uncomment to print MAE\n",
    "print(\"Mean Absolute Error:\" , mae_2)\n",
    "\n",
    "# Check your answer\n",
    "step_2.check()"
   ]
  },
  {
   "cell_type": "code",
   "execution_count": 11,
   "id": "e9554e61",
   "metadata": {
    "execution": {
     "iopub.execute_input": "2023-05-06T10:28:11.143642Z",
     "iopub.status.busy": "2023-05-06T10:28:11.143279Z",
     "iopub.status.idle": "2023-05-06T10:28:11.147050Z",
     "shell.execute_reply": "2023-05-06T10:28:11.146230Z"
    },
    "papermill": {
     "duration": 0.013405,
     "end_time": "2023-05-06T10:28:11.148998",
     "exception": false,
     "start_time": "2023-05-06T10:28:11.135593",
     "status": "completed"
    },
    "tags": []
   },
   "outputs": [],
   "source": [
    "# Lines below will give you a hint or solution code\n",
    "#step_2.hint()\n",
    "#step_2.solution()"
   ]
  },
  {
   "cell_type": "markdown",
   "id": "93f47252",
   "metadata": {
    "papermill": {
     "duration": 0.006014,
     "end_time": "2023-05-06T10:28:11.161344",
     "exception": false,
     "start_time": "2023-05-06T10:28:11.155330",
     "status": "completed"
    },
    "tags": []
   },
   "source": [
    "# Step 3: Break the model\n",
    "\n",
    "In this step, you will create a model that performs worse than the original model in Step 1.  This will help you to develop your intuition for how to set parameters.  You might even find that you accidentally get better performance, which is ultimately a nice problem to have and a valuable learning experience!\n",
    "- Begin by setting `my_model_3` to an XGBoost model, using the [XGBRegressor](https://xgboost.readthedocs.io/en/latest/python/python_api.html#xgboost.XGBRegressor) class.  Use what you learned in the previous tutorial to figure out how to change the default parameters (like `n_estimators` and `learning_rate`) to design a model to get high MAE.\n",
    "- Then, fit the model to the training data in `X_train` and `y_train`.\n",
    "- Set `predictions_3` to the model's predictions for the validation data.  Recall that the validation features are stored in `X_valid`.\n",
    "- Finally, use the `mean_absolute_error()` function to calculate the mean absolute error (MAE) corresponding to the predictions on the validation set.  Recall that the labels for the validation data are stored in `y_valid`.\n",
    "\n",
    "In order for this step to be marked correct, your model in `my_model_3` must attain higher MAE than the model in `my_model_1`. "
   ]
  },
  {
   "cell_type": "code",
   "execution_count": 12,
   "id": "975c0cbf",
   "metadata": {
    "execution": {
     "iopub.execute_input": "2023-05-06T10:28:11.176100Z",
     "iopub.status.busy": "2023-05-06T10:28:11.175485Z",
     "iopub.status.idle": "2023-05-06T10:28:11.385667Z",
     "shell.execute_reply": "2023-05-06T10:28:11.384774Z"
    },
    "papermill": {
     "duration": 0.220512,
     "end_time": "2023-05-06T10:28:11.388284",
     "exception": false,
     "start_time": "2023-05-06T10:28:11.167772",
     "status": "completed"
    },
    "tags": []
   },
   "outputs": [
    {
     "name": "stdout",
     "output_type": "stream",
     "text": [
      "Mean Absolute Error: 17692.092465753423\n"
     ]
    },
    {
     "data": {
      "application/javascript": [
       "parent.postMessage({\"jupyterEvent\": \"custom.exercise_interaction\", \"data\": {\"outcomeType\": 1, \"valueTowardsCompletion\": 0.5, \"interactionType\": 1, \"questionType\": 2, \"questionId\": \"3_Model3\", \"learnToolsVersion\": \"0.3.4\", \"failureMessage\": \"\", \"exceptionClass\": \"\", \"trace\": \"\"}}, \"*\")"
      ],
      "text/plain": [
       "<IPython.core.display.Javascript object>"
      ]
     },
     "metadata": {},
     "output_type": "display_data"
    },
    {
     "data": {
      "text/markdown": [
       "<span style=\"color:#33cc33\">Correct</span>"
      ],
      "text/plain": [
       "Correct"
      ]
     },
     "metadata": {},
     "output_type": "display_data"
    }
   ],
   "source": [
    "# Define the model\n",
    "my_model_3 = XGBRegressor(n_estimators = 20, learning_rate = 0.2, random_state = 0)\n",
    "\n",
    "# Fit the model\n",
    "my_model_3.fit(X_train, y_train) # Your code here\n",
    "\n",
    "# Get predictions\n",
    "predictions_3 = my_model_3.predict(X_valid)\n",
    "\n",
    "# Calculate MAE\n",
    "mae_3 = mean_absolute_error(y_valid, predictions_3)\n",
    "\n",
    "# Uncomment to print MAE\n",
    "print(\"Mean Absolute Error:\" , mae_3)\n",
    "\n",
    "# Check your answer\n",
    "step_3.check()"
   ]
  },
  {
   "cell_type": "code",
   "execution_count": 13,
   "id": "9f51b030",
   "metadata": {
    "execution": {
     "iopub.execute_input": "2023-05-06T10:28:11.404390Z",
     "iopub.status.busy": "2023-05-06T10:28:11.404040Z",
     "iopub.status.idle": "2023-05-06T10:28:11.408541Z",
     "shell.execute_reply": "2023-05-06T10:28:11.407401Z"
    },
    "papermill": {
     "duration": 0.014604,
     "end_time": "2023-05-06T10:28:11.410645",
     "exception": false,
     "start_time": "2023-05-06T10:28:11.396041",
     "status": "completed"
    },
    "tags": []
   },
   "outputs": [],
   "source": [
    "# Lines below will give you a hint or solution code\n",
    "#step_3.hint()\n",
    "#step_3.solution()"
   ]
  },
  {
   "cell_type": "markdown",
   "id": "d27bbc99",
   "metadata": {
    "papermill": {
     "duration": 0.006322,
     "end_time": "2023-05-06T10:28:11.423743",
     "exception": false,
     "start_time": "2023-05-06T10:28:11.417421",
     "status": "completed"
    },
    "tags": []
   },
   "source": [
    "# Keep going\n",
    "\n",
    "Continue to learn about **[data leakage](https://www.kaggle.com/alexisbcook/data-leakage)**.  This is an important issue for a data scientist to understand, and it has the potential to ruin your models in subtle and dangerous ways!"
   ]
  },
  {
   "cell_type": "markdown",
   "id": "37fccdc8",
   "metadata": {
    "papermill": {
     "duration": 0.006425,
     "end_time": "2023-05-06T10:28:11.436781",
     "exception": false,
     "start_time": "2023-05-06T10:28:11.430356",
     "status": "completed"
    },
    "tags": []
   },
   "source": [
    "---\n",
    "\n",
    "\n",
    "\n",
    "\n",
    "*Have questions or comments? Visit the [course discussion forum](https://www.kaggle.com/learn/intermediate-machine-learning/discussion) to chat with other learners.*"
   ]
  }
 ],
 "metadata": {
  "kernelspec": {
   "display_name": "Python 3",
   "language": "python",
   "name": "python3"
  },
  "language_info": {
   "codemirror_mode": {
    "name": "ipython",
    "version": 3
   },
   "file_extension": ".py",
   "mimetype": "text/x-python",
   "name": "python",
   "nbconvert_exporter": "python",
   "pygments_lexer": "ipython3",
   "version": "3.10.10"
  },
  "papermill": {
   "default_parameters": {},
   "duration": 17.190049,
   "end_time": "2023-05-06T10:28:12.567333",
   "environment_variables": {},
   "exception": null,
   "input_path": "__notebook__.ipynb",
   "output_path": "__notebook__.ipynb",
   "parameters": {},
   "start_time": "2023-05-06T10:27:55.377284",
   "version": "2.4.0"
  }
 },
 "nbformat": 4,
 "nbformat_minor": 5
}
