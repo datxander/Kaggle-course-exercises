{
 "cells": [
  {
   "cell_type": "markdown",
   "id": "53ae6b64",
   "metadata": {
    "papermill": {
     "duration": 0.006177,
     "end_time": "2024-04-24T05:02:48.833604",
     "exception": false,
     "start_time": "2024-04-24T05:02:48.827427",
     "status": "completed"
    },
    "tags": []
   },
   "source": [
    "**This notebook is an exercise in the [Intro to Programming](https://www.kaggle.com/learn/intro-to-programming) course.  You can reference the tutorial at [this link](https://www.kaggle.com/alexisbcook/functions).**\n",
    "\n",
    "---\n"
   ]
  },
  {
   "cell_type": "markdown",
   "id": "d0562c9f",
   "metadata": {
    "papermill": {
     "duration": 0.005348,
     "end_time": "2024-04-24T05:02:48.844714",
     "exception": false,
     "start_time": "2024-04-24T05:02:48.839366",
     "status": "completed"
    },
    "tags": []
   },
   "source": [
    "In the tutorial, you learned about functions. In this exercise, you'll write some of your own!\n",
    "\n",
    "# Set up the notebook\n",
    "\n",
    "Run the next code cell without changes to set up the notebook."
   ]
  },
  {
   "cell_type": "code",
   "execution_count": 1,
   "id": "8b427738",
   "metadata": {
    "execution": {
     "iopub.execute_input": "2024-04-24T05:02:48.858093Z",
     "iopub.status.busy": "2024-04-24T05:02:48.857604Z",
     "iopub.status.idle": "2024-04-24T05:02:49.865281Z",
     "shell.execute_reply": "2024-04-24T05:02:49.864110Z"
    },
    "papermill": {
     "duration": 1.019821,
     "end_time": "2024-04-24T05:02:49.870318",
     "exception": false,
     "start_time": "2024-04-24T05:02:48.850497",
     "status": "completed"
    },
    "tags": []
   },
   "outputs": [
    {
     "name": "stdout",
     "output_type": "stream",
     "text": [
      "Setup complete.\n"
     ]
    }
   ],
   "source": [
    "# Set up the exercise\n",
    "import math\n",
    "from learntools.core import binder\n",
    "binder.bind(globals())\n",
    "from learntools.intro_to_programming.ex2 import *\n",
    "print('Setup complete.')"
   ]
  },
  {
   "cell_type": "markdown",
   "id": "5b54175b",
   "metadata": {
    "papermill": {
     "duration": 0.005539,
     "end_time": "2024-04-24T05:02:49.882202",
     "exception": false,
     "start_time": "2024-04-24T05:02:49.876663",
     "status": "completed"
    },
    "tags": []
   },
   "source": [
    "# Question 1\n",
    "\n",
    "In the [House Prices - Advanced Regression Techniques competition](https://www.kaggle.com/c/house-prices-advanced-regression-techniques/overview), you need to use information like the number of bedrooms and bathrooms to predict the price of a house.  Inspired by this competition, you'll write your own function to do this.\n",
    "\n",
    "In the next code cell, create a function `get_expected_cost()` that has two arguments:\n",
    "- `beds` - number of bedrooms \n",
    "- `baths` - number of bathrooms\n",
    "\n",
    "It should return the expected cost of a house with that number of bedrooms and bathrooms.  Assume that:\n",
    "- the expected cost for a house with 0 bedrooms and 0 bathrooms is `80000`.  \n",
    "- each bedroom adds `30000` to the expected cost\n",
    "- each bathroom adds `10000` to the expected cost.\n",
    "\n",
    "For instance, \n",
    "- a house with 1 bedroom and 1 bathroom has an expected cost of `120000`, and \n",
    "- a house with 2 bedrooms and 1 bathroom has an expected cost of `150000`."
   ]
  },
  {
   "cell_type": "code",
   "execution_count": 2,
   "id": "44f82286",
   "metadata": {
    "execution": {
     "iopub.execute_input": "2024-04-24T05:02:49.895855Z",
     "iopub.status.busy": "2024-04-24T05:02:49.894880Z",
     "iopub.status.idle": "2024-04-24T05:02:49.905735Z",
     "shell.execute_reply": "2024-04-24T05:02:49.904501Z"
    },
    "papermill": {
     "duration": 0.020071,
     "end_time": "2024-04-24T05:02:49.907917",
     "exception": false,
     "start_time": "2024-04-24T05:02:49.887846",
     "status": "completed"
    },
    "tags": []
   },
   "outputs": [
    {
     "data": {
      "application/javascript": [
       "parent.postMessage({\"jupyterEvent\": \"custom.exercise_interaction\", \"data\": {\"outcomeType\": 1, \"valueTowardsCompletion\": 0.2, \"interactionType\": 1, \"questionType\": 2, \"questionId\": \"1_GetExpectedCost\", \"learnToolsVersion\": \"0.3.4\", \"failureMessage\": \"\", \"exceptionClass\": \"\", \"trace\": \"\"}}, \"*\")"
      ],
      "text/plain": [
       "<IPython.core.display.Javascript object>"
      ]
     },
     "metadata": {},
     "output_type": "display_data"
    },
    {
     "data": {
      "text/markdown": [
       "<span style=\"color:#33cc33\">Correct</span>"
      ],
      "text/plain": [
       "Correct"
      ]
     },
     "metadata": {},
     "output_type": "display_data"
    }
   ],
   "source": [
    "# TODO: Complete the function\n",
    "def get_expected_cost(beds, baths):\n",
    "    value = 80000 + 30000*beds + 10000*baths\n",
    "    return value\n",
    "\n",
    "# Check your answer \n",
    "q1.check()"
   ]
  },
  {
   "cell_type": "code",
   "execution_count": 3,
   "id": "b660e2de",
   "metadata": {
    "execution": {
     "iopub.execute_input": "2024-04-24T05:02:49.921423Z",
     "iopub.status.busy": "2024-04-24T05:02:49.921046Z",
     "iopub.status.idle": "2024-04-24T05:02:49.925641Z",
     "shell.execute_reply": "2024-04-24T05:02:49.924470Z"
    },
    "papermill": {
     "duration": 0.014049,
     "end_time": "2024-04-24T05:02:49.927934",
     "exception": false,
     "start_time": "2024-04-24T05:02:49.913885",
     "status": "completed"
    },
    "tags": []
   },
   "outputs": [],
   "source": [
    "# Uncomment to see a hint\n",
    "#q1.hint()\n",
    "\n",
    "# Uncomment to view the solution\n",
    "#q1.solution()"
   ]
  },
  {
   "cell_type": "markdown",
   "id": "983c7919",
   "metadata": {
    "papermill": {
     "duration": 0.005922,
     "end_time": "2024-04-24T05:02:49.939849",
     "exception": false,
     "start_time": "2024-04-24T05:02:49.933927",
     "status": "completed"
    },
    "tags": []
   },
   "source": [
    "# Question 2\n",
    "\n",
    "You are thinking about buying a home and want to get an idea of how much you will spend, based on the number of bedrooms and bathrooms.  You are trying to decide between four different options:\n",
    "- Option 1: house with two bedrooms and three bathrooms\n",
    "- Option 2: house with three bedrooms and two bathrooms\n",
    "- Option 3: house with three bedrooms and three bathrooms\n",
    "- Option 4: house with three bedrooms and four bathrooms\n",
    "\n",
    "Use the `get_expected_cost()` function you defined in question 1 to set `option_1`, `option_2`, `option_3`, and `option_4` to the expected cost of each option."
   ]
  },
  {
   "cell_type": "code",
   "execution_count": 4,
   "id": "57e35c36",
   "metadata": {
    "execution": {
     "iopub.execute_input": "2024-04-24T05:02:49.953362Z",
     "iopub.status.busy": "2024-04-24T05:02:49.952971Z",
     "iopub.status.idle": "2024-04-24T05:02:49.963690Z",
     "shell.execute_reply": "2024-04-24T05:02:49.962496Z"
    },
    "papermill": {
     "duration": 0.020331,
     "end_time": "2024-04-24T05:02:49.966133",
     "exception": false,
     "start_time": "2024-04-24T05:02:49.945802",
     "status": "completed"
    },
    "tags": []
   },
   "outputs": [
    {
     "name": "stdout",
     "output_type": "stream",
     "text": [
      "170000\n",
      "190000\n",
      "200000\n",
      "210000\n"
     ]
    },
    {
     "data": {
      "application/javascript": [
       "parent.postMessage({\"jupyterEvent\": \"custom.exercise_interaction\", \"data\": {\"outcomeType\": 1, \"valueTowardsCompletion\": 0.2, \"interactionType\": 1, \"questionType\": 1, \"questionId\": \"2_RunGetExpectedCost\", \"learnToolsVersion\": \"0.3.4\", \"failureMessage\": \"\", \"exceptionClass\": \"\", \"trace\": \"\"}}, \"*\")"
      ],
      "text/plain": [
       "<IPython.core.display.Javascript object>"
      ]
     },
     "metadata": {},
     "output_type": "display_data"
    },
    {
     "data": {
      "text/markdown": [
       "<span style=\"color:#33cc33\">Correct</span>"
      ],
      "text/plain": [
       "Correct"
      ]
     },
     "metadata": {},
     "output_type": "display_data"
    }
   ],
   "source": [
    "# TODO: Use the get_expected_cost function to fill in each value\n",
    "option_one = get_expected_cost(2,3)\n",
    "option_two = get_expected_cost(3,2)\n",
    "option_three = get_expected_cost(3,3)\n",
    "option_four = get_expected_cost(3,4)\n",
    "\n",
    "print(option_one)\n",
    "print(option_two)\n",
    "print(option_three)\n",
    "print(option_four)\n",
    "\n",
    "# Check your answer\n",
    "q2.check()"
   ]
  },
  {
   "cell_type": "code",
   "execution_count": 5,
   "id": "4d9a148a",
   "metadata": {
    "execution": {
     "iopub.execute_input": "2024-04-24T05:02:49.980876Z",
     "iopub.status.busy": "2024-04-24T05:02:49.980153Z",
     "iopub.status.idle": "2024-04-24T05:02:49.984809Z",
     "shell.execute_reply": "2024-04-24T05:02:49.983745Z"
    },
    "papermill": {
     "duration": 0.014526,
     "end_time": "2024-04-24T05:02:49.987043",
     "exception": false,
     "start_time": "2024-04-24T05:02:49.972517",
     "status": "completed"
    },
    "tags": []
   },
   "outputs": [],
   "source": [
    "# Uncomment to see a hint\n",
    "#q2.hint()\n",
    "\n",
    "# Uncomment to view the solution\n",
    "#q2.solution()"
   ]
  },
  {
   "cell_type": "markdown",
   "id": "1e842314",
   "metadata": {
    "papermill": {
     "duration": 0.007083,
     "end_time": "2024-04-24T05:02:50.000535",
     "exception": false,
     "start_time": "2024-04-24T05:02:49.993452",
     "status": "completed"
    },
    "tags": []
   },
   "source": [
    "# Question 3\n",
    "\n",
    "You're a home decorator, and you'd like to use Python to streamline some of your work.  Specifically, you're creating a tool that you intend to use to calculate the cost of painting a room.\n",
    "\n",
    "As a first step, define a function `get_cost()` that takes as input:\n",
    "- `sqft_walls` = total square feet of walls to be painted\n",
    "- `sqft_ceiling` = square feet of ceiling to be painted\n",
    "- `sqft_per_gallon` = number of square feet that you can cover with one gallon of paint\n",
    "- `cost_per_gallon` = cost (in dollars) of one gallon of paint\n",
    "\n",
    "It should return the cost (in dollars) of putting one coat of paint on all walls and the ceiling.  Assume you can buy the exact amount of paint that you need, so you can buy partial gallons (e.g., if you need 7.523 gallons, you can buy that exact amount, instead of needing to buy 8 gallons and waste some paint).  Do not round your answer."
   ]
  },
  {
   "cell_type": "code",
   "execution_count": 6,
   "id": "1dca8f0f",
   "metadata": {
    "execution": {
     "iopub.execute_input": "2024-04-24T05:02:50.014830Z",
     "iopub.status.busy": "2024-04-24T05:02:50.014430Z",
     "iopub.status.idle": "2024-04-24T05:02:50.024595Z",
     "shell.execute_reply": "2024-04-24T05:02:50.023227Z"
    },
    "papermill": {
     "duration": 0.020164,
     "end_time": "2024-04-24T05:02:50.027022",
     "exception": false,
     "start_time": "2024-04-24T05:02:50.006858",
     "status": "completed"
    },
    "tags": []
   },
   "outputs": [
    {
     "data": {
      "application/javascript": [
       "parent.postMessage({\"jupyterEvent\": \"custom.exercise_interaction\", \"data\": {\"outcomeType\": 1, \"valueTowardsCompletion\": 0.2, \"interactionType\": 1, \"questionType\": 2, \"questionId\": \"3_GetCostPaint\", \"learnToolsVersion\": \"0.3.4\", \"failureMessage\": \"\", \"exceptionClass\": \"\", \"trace\": \"\"}}, \"*\")"
      ],
      "text/plain": [
       "<IPython.core.display.Javascript object>"
      ]
     },
     "metadata": {},
     "output_type": "display_data"
    },
    {
     "data": {
      "text/markdown": [
       "<span style=\"color:#33cc33\">Correct</span>"
      ],
      "text/plain": [
       "Correct"
      ]
     },
     "metadata": {},
     "output_type": "display_data"
    }
   ],
   "source": [
    "# TODO: Finish defining the function\n",
    "def get_cost(sqft_walls, sqft_ceiling, sqft_per_gallon, cost_per_gallon):\n",
    "    cost = ((sqft_walls + sqft_ceiling) /  sqft_per_gallon) * cost_per_gallon\n",
    "    return cost\n",
    "\n",
    "# Check your answer\n",
    "q3.check() "
   ]
  },
  {
   "cell_type": "code",
   "execution_count": 7,
   "id": "f1d3cfe6",
   "metadata": {
    "execution": {
     "iopub.execute_input": "2024-04-24T05:02:50.042883Z",
     "iopub.status.busy": "2024-04-24T05:02:50.041888Z",
     "iopub.status.idle": "2024-04-24T05:02:50.046816Z",
     "shell.execute_reply": "2024-04-24T05:02:50.045729Z"
    },
    "papermill": {
     "duration": 0.015547,
     "end_time": "2024-04-24T05:02:50.049225",
     "exception": false,
     "start_time": "2024-04-24T05:02:50.033678",
     "status": "completed"
    },
    "tags": []
   },
   "outputs": [],
   "source": [
    "# Uncomment to see a hint\n",
    "#q3.hint()\n",
    "\n",
    "# Uncomment to view the solution\n",
    "#q3.solution()"
   ]
  },
  {
   "cell_type": "markdown",
   "id": "97fd2ca5",
   "metadata": {
    "papermill": {
     "duration": 0.006229,
     "end_time": "2024-04-24T05:02:50.062214",
     "exception": false,
     "start_time": "2024-04-24T05:02:50.055985",
     "status": "completed"
    },
    "tags": []
   },
   "source": [
    "# Question 4\n",
    "\n",
    "Use the `get_cost()` function you defined in Question 3 to calculate the cost of applying one coat of paint to a room with:\n",
    "- 432 square feet of walls, and\n",
    "- 144 square feet of ceiling.\n",
    "\n",
    "Assume that one gallon of paint covers 400 square feet and costs $15.  As in Question 3, assume you can buy partial gallons of paint.  Do not round your answer."
   ]
  },
  {
   "cell_type": "code",
   "execution_count": 8,
   "id": "fd630666",
   "metadata": {
    "execution": {
     "iopub.execute_input": "2024-04-24T05:02:50.076978Z",
     "iopub.status.busy": "2024-04-24T05:02:50.076540Z",
     "iopub.status.idle": "2024-04-24T05:02:50.085614Z",
     "shell.execute_reply": "2024-04-24T05:02:50.084588Z"
    },
    "papermill": {
     "duration": 0.018829,
     "end_time": "2024-04-24T05:02:50.087635",
     "exception": false,
     "start_time": "2024-04-24T05:02:50.068806",
     "status": "completed"
    },
    "tags": []
   },
   "outputs": [
    {
     "data": {
      "application/javascript": [
       "parent.postMessage({\"jupyterEvent\": \"custom.exercise_interaction\", \"data\": {\"outcomeType\": 1, \"valueTowardsCompletion\": 0.2, \"interactionType\": 1, \"questionType\": 1, \"questionId\": \"4_GetCostPaintExample\", \"learnToolsVersion\": \"0.3.4\", \"failureMessage\": \"\", \"exceptionClass\": \"\", \"trace\": \"\"}}, \"*\")"
      ],
      "text/plain": [
       "<IPython.core.display.Javascript object>"
      ]
     },
     "metadata": {},
     "output_type": "display_data"
    },
    {
     "data": {
      "text/markdown": [
       "<span style=\"color:#33cc33\">Correct</span>"
      ],
      "text/plain": [
       "Correct"
      ]
     },
     "metadata": {},
     "output_type": "display_data"
    }
   ],
   "source": [
    "# TODO: Set the project_cost variable to the cost of the project\n",
    "project_cost = get_cost(432,144,400,15)\n",
    "\n",
    "# Check your answer\n",
    "q4.check()"
   ]
  },
  {
   "cell_type": "code",
   "execution_count": 9,
   "id": "6c754abd",
   "metadata": {
    "execution": {
     "iopub.execute_input": "2024-04-24T05:02:50.102850Z",
     "iopub.status.busy": "2024-04-24T05:02:50.102479Z",
     "iopub.status.idle": "2024-04-24T05:02:50.107199Z",
     "shell.execute_reply": "2024-04-24T05:02:50.106005Z"
    },
    "papermill": {
     "duration": 0.014794,
     "end_time": "2024-04-24T05:02:50.109383",
     "exception": false,
     "start_time": "2024-04-24T05:02:50.094589",
     "status": "completed"
    },
    "tags": []
   },
   "outputs": [],
   "source": [
    "# Uncomment to see a hint\n",
    "#q4.hint()\n",
    "\n",
    "# Uncomment to view the solution\n",
    "#q4.solution()"
   ]
  },
  {
   "cell_type": "markdown",
   "id": "46f64b50",
   "metadata": {
    "papermill": {
     "duration": 0.006653,
     "end_time": "2024-04-24T05:02:50.122921",
     "exception": false,
     "start_time": "2024-04-24T05:02:50.116268",
     "status": "completed"
    },
    "tags": []
   },
   "source": [
    "# 🌶️ Question 5\n",
    "\n",
    "Now say you can no longer buy fractions of a gallon.  (For instance, if you need 4.3 gallons to do a project, then you have to buy 5 gallons of paint.)\n",
    "\n",
    "With this new scenario, you will create a new function `get_actual_cost` that uses the same inputs and calculates the cost of your project.\n",
    "\n",
    "One function that you'll need to use to do this is `math.ceil()`.  We demonstrate usage of this function in the code cell below.  It takes as a number as input and rounds the number up to the nearest integer.  \n",
    "\n",
    "Run the next code cell to test this function for yourself.  Feel free to change the value of `test_value` and make sure `math.ceil()` returns the number you expect."
   ]
  },
  {
   "cell_type": "code",
   "execution_count": 10,
   "id": "6d3021a9",
   "metadata": {
    "execution": {
     "iopub.execute_input": "2024-04-24T05:02:50.138433Z",
     "iopub.status.busy": "2024-04-24T05:02:50.138053Z",
     "iopub.status.idle": "2024-04-24T05:02:50.143649Z",
     "shell.execute_reply": "2024-04-24T05:02:50.142654Z"
    },
    "papermill": {
     "duration": 0.016481,
     "end_time": "2024-04-24T05:02:50.146300",
     "exception": false,
     "start_time": "2024-04-24T05:02:50.129819",
     "status": "completed"
    },
    "tags": []
   },
   "outputs": [
    {
     "name": "stdout",
     "output_type": "stream",
     "text": [
      "3\n"
     ]
    }
   ],
   "source": [
    "test_value = 2.17\n",
    "\n",
    "rounded_value = math.ceil(test_value)\n",
    "print(rounded_value)"
   ]
  },
  {
   "cell_type": "markdown",
   "id": "52a4363e",
   "metadata": {
    "papermill": {
     "duration": 0.006966,
     "end_time": "2024-04-24T05:02:50.160193",
     "exception": false,
     "start_time": "2024-04-24T05:02:50.153227",
     "status": "completed"
    },
    "tags": []
   },
   "source": [
    "Use the next code cell to define the function `get_actual_cost()`.  You'll need to use the `math.ceil()` function to do this.\n",
    "\n",
    "When answering this question, note that it's completely valid to define a function that makes use of another function.  For instance, we can define a function `round_up_and_divide_by_three` that makes use of the `math.ceil` function:\n",
    "```\n",
    "def round_up_and_divide_by_three(num):\n",
    "    new_value = math.ceil(num)\n",
    "    final_value = new_value / 3\n",
    "    return final_value\n",
    "```"
   ]
  },
  {
   "cell_type": "code",
   "execution_count": 11,
   "id": "95bae731",
   "metadata": {
    "execution": {
     "iopub.execute_input": "2024-04-24T05:02:50.175330Z",
     "iopub.status.busy": "2024-04-24T05:02:50.174933Z",
     "iopub.status.idle": "2024-04-24T05:02:50.184150Z",
     "shell.execute_reply": "2024-04-24T05:02:50.183013Z"
    },
    "papermill": {
     "duration": 0.019478,
     "end_time": "2024-04-24T05:02:50.186555",
     "exception": false,
     "start_time": "2024-04-24T05:02:50.167077",
     "status": "completed"
    },
    "tags": []
   },
   "outputs": [
    {
     "data": {
      "application/javascript": [
       "parent.postMessage({\"jupyterEvent\": \"custom.exercise_interaction\", \"data\": {\"outcomeType\": 1, \"valueTowardsCompletion\": 0.2, \"interactionType\": 1, \"questionType\": 2, \"questionId\": \"5_NoMoreFractions\", \"learnToolsVersion\": \"0.3.4\", \"failureMessage\": \"\", \"exceptionClass\": \"\", \"trace\": \"\"}}, \"*\")"
      ],
      "text/plain": [
       "<IPython.core.display.Javascript object>"
      ]
     },
     "metadata": {},
     "output_type": "display_data"
    },
    {
     "data": {
      "text/markdown": [
       "<span style=\"color:#33cc33\">Correct</span>"
      ],
      "text/plain": [
       "Correct"
      ]
     },
     "metadata": {},
     "output_type": "display_data"
    }
   ],
   "source": [
    "def get_actual_cost(sqft_walls, sqft_ceiling, sqft_per_gallon, cost_per_gallon):\n",
    "    cost = math.ceil(((sqft_walls + sqft_ceiling) /  sqft_per_gallon)) * cost_per_gallon\n",
    "    return cost\n",
    "\n",
    "# Check your answer\n",
    "q5.check()"
   ]
  },
  {
   "cell_type": "code",
   "execution_count": 12,
   "id": "c790d8b4",
   "metadata": {
    "execution": {
     "iopub.execute_input": "2024-04-24T05:02:50.203533Z",
     "iopub.status.busy": "2024-04-24T05:02:50.203136Z",
     "iopub.status.idle": "2024-04-24T05:02:50.207565Z",
     "shell.execute_reply": "2024-04-24T05:02:50.206534Z"
    },
    "papermill": {
     "duration": 0.01586,
     "end_time": "2024-04-24T05:02:50.209767",
     "exception": false,
     "start_time": "2024-04-24T05:02:50.193907",
     "status": "completed"
    },
    "tags": []
   },
   "outputs": [],
   "source": [
    "# Uncomment to see a hint\n",
    "#q5.hint()\n",
    "\n",
    "# Uncomment to view the solution\n",
    "#q5.solution()"
   ]
  },
  {
   "cell_type": "markdown",
   "id": "3dbfbe75",
   "metadata": {
    "papermill": {
     "duration": 0.007094,
     "end_time": "2024-04-24T05:02:50.224182",
     "exception": false,
     "start_time": "2024-04-24T05:02:50.217088",
     "status": "completed"
    },
    "tags": []
   },
   "source": [
    "Once your function is verified as correct, run the next code cell to calculate the updated cost of your project."
   ]
  },
  {
   "cell_type": "code",
   "execution_count": 13,
   "id": "90775448",
   "metadata": {
    "execution": {
     "iopub.execute_input": "2024-04-24T05:02:50.240180Z",
     "iopub.status.busy": "2024-04-24T05:02:50.239798Z",
     "iopub.status.idle": "2024-04-24T05:02:50.246720Z",
     "shell.execute_reply": "2024-04-24T05:02:50.245760Z"
    },
    "papermill": {
     "duration": 0.017585,
     "end_time": "2024-04-24T05:02:50.248864",
     "exception": false,
     "start_time": "2024-04-24T05:02:50.231279",
     "status": "completed"
    },
    "tags": []
   },
   "outputs": [
    {
     "data": {
      "text/plain": [
       "30"
      ]
     },
     "execution_count": 13,
     "metadata": {},
     "output_type": "execute_result"
    }
   ],
   "source": [
    "get_actual_cost(432, 144, 400, 15) "
   ]
  },
  {
   "cell_type": "markdown",
   "id": "a6513c80",
   "metadata": {
    "papermill": {
     "duration": 0.006814,
     "end_time": "2024-04-24T05:02:50.262949",
     "exception": false,
     "start_time": "2024-04-24T05:02:50.256135",
     "status": "completed"
    },
    "tags": []
   },
   "source": [
    "Say you're working with a slightly larger room.  Run the next code cell to calculate the cost of the project."
   ]
  },
  {
   "cell_type": "code",
   "execution_count": 14,
   "id": "27edf955",
   "metadata": {
    "execution": {
     "iopub.execute_input": "2024-04-24T05:02:50.279655Z",
     "iopub.status.busy": "2024-04-24T05:02:50.278641Z",
     "iopub.status.idle": "2024-04-24T05:02:50.285595Z",
     "shell.execute_reply": "2024-04-24T05:02:50.284419Z"
    },
    "papermill": {
     "duration": 0.017735,
     "end_time": "2024-04-24T05:02:50.287834",
     "exception": false,
     "start_time": "2024-04-24T05:02:50.270099",
     "status": "completed"
    },
    "tags": []
   },
   "outputs": [
    {
     "data": {
      "text/plain": [
       "45"
      ]
     },
     "execution_count": 14,
     "metadata": {},
     "output_type": "execute_result"
    }
   ],
   "source": [
    "get_actual_cost(594, 288, 400, 15) "
   ]
  },
  {
   "cell_type": "markdown",
   "id": "14dff1c0",
   "metadata": {
    "papermill": {
     "duration": 0.007177,
     "end_time": "2024-04-24T05:02:50.302413",
     "exception": false,
     "start_time": "2024-04-24T05:02:50.295236",
     "status": "completed"
    },
    "tags": []
   },
   "source": [
    "# Keep going\n",
    "\n",
    "Continue to learn about **[data types](https://www.kaggle.com/alexisbcook/data-types)**."
   ]
  },
  {
   "cell_type": "markdown",
   "id": "0c2d1049",
   "metadata": {
    "papermill": {
     "duration": 0.007189,
     "end_time": "2024-04-24T05:02:50.316924",
     "exception": false,
     "start_time": "2024-04-24T05:02:50.309735",
     "status": "completed"
    },
    "tags": []
   },
   "source": [
    "---\n",
    "\n",
    "\n",
    "\n",
    "\n",
    "*Have questions or comments? Visit the [course discussion forum](https://www.kaggle.com/learn/intro-to-programming/discussion) to chat with other learners.*"
   ]
  }
 ],
 "metadata": {
  "kaggle": {
   "accelerator": "none",
   "dataSources": [],
   "isGpuEnabled": false,
   "isInternetEnabled": false,
   "language": "python",
   "sourceType": "notebook"
  },
  "kernelspec": {
   "display_name": "Python 3",
   "language": "python",
   "name": "python3"
  },
  "language_info": {
   "codemirror_mode": {
    "name": "ipython",
    "version": 3
   },
   "file_extension": ".py",
   "mimetype": "text/x-python",
   "name": "python",
   "nbconvert_exporter": "python",
   "pygments_lexer": "ipython3",
   "version": "3.10.13"
  },
  "papermill": {
   "default_parameters": {},
   "duration": 4.928083,
   "end_time": "2024-04-24T05:02:50.844531",
   "environment_variables": {},
   "exception": null,
   "input_path": "__notebook__.ipynb",
   "output_path": "__notebook__.ipynb",
   "parameters": {},
   "start_time": "2024-04-24T05:02:45.916448",
   "version": "2.5.0"
  }
 },
 "nbformat": 4,
 "nbformat_minor": 5
}
